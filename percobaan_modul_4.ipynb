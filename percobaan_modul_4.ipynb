{
  "nbformat": 4,
  "nbformat_minor": 0,
  "metadata": {
    "colab": {
      "provenance": [],
      "authorship_tag": "ABX9TyNwO34OUroWrssLiSzjVg1A",
      "include_colab_link": true
    },
    "kernelspec": {
      "name": "python3",
      "display_name": "Python 3"
    },
    "language_info": {
      "name": "python"
    }
  },
  "cells": [
    {
      "cell_type": "markdown",
      "metadata": {
        "id": "view-in-github",
        "colab_type": "text"
      },
      "source": [
        "<a href=\"https://colab.research.google.com/github/erlynnur/STRUKTUR-DATA-SEMESTER-2/blob/main/percobaan_modul_4.ipynb\" target=\"_parent\"><img src=\"https://colab.research.google.com/assets/colab-badge.svg\" alt=\"Open In Colab\"/></a>"
      ]
    },
    {
      "cell_type": "code",
      "execution_count": 5,
      "metadata": {
        "colab": {
          "base_uri": "https://localhost:8080/"
        },
        "id": "YUKSdrxQnVhl",
        "outputId": "bba65cc0-2495-4129-e9bb-4604056c2612"
      },
      "outputs": [
        {
          "output_type": "stream",
          "name": "stdout",
          "text": [
            "Queue setelah enqueue: [10, 20, 30]\n",
            "Dequeued element: 10\n",
            "Front element: 20\n",
            "Rear element: 30\n",
            "Queue size: 2\n"
          ]
        }
      ],
      "source": [
        "#Implementasi Queue menggunakan list\n",
        "class QueueList:\n",
        "    def __init__(self):\n",
        "      self.queue = []\n",
        "    def enqueue(self, item):\n",
        "      self.queue.append(item)\n",
        "    def dequeue(self):\n",
        "      if not self.is_empty():\n",
        "        return self.queue.pop(0)\n",
        "      return None\n",
        "    def front(self):\n",
        "      return self.queue[0] if not self.is_empty() else None\n",
        "    def rear(self):\n",
        "      return self.queue[-1] if not self.is_empty() else None\n",
        "    def is_empty(self):\n",
        "      return len(self.queue) == 0\n",
        "    def size(self):\n",
        "      return len(self.queue)\n",
        "#contoh penggunaan\n",
        "queue = QueueList()\n",
        "queue.enqueue(10)\n",
        "queue.enqueue(20)\n",
        "queue.enqueue(30)\n",
        "print(\"Queue setelah enqueue:\", queue.queue)\n",
        "print(\"Dequeued element:\", queue.dequeue())\n",
        "print(\"Front element:\", queue.front())\n",
        "print(\"Rear element:\", queue.rear())\n",
        "print(\"Queue size:\", queue.size())"
      ]
    },
    {
      "cell_type": "code",
      "source": [
        "#Implementasi queue dengan collections.deque\n",
        "\n",
        "from collections import deque\n",
        "\n",
        "#implementasi Queue menggunakan deque\n",
        "class QueueDeque:\n",
        "  def __init__(self):\n",
        "    self.queue = deque()\n",
        "  def enqueue(self, item):\n",
        "    self.queue.append(item)\n",
        "  def dequeue(self):\n",
        "    return self.queue.popleft() if not self.is_empty() else None\n",
        "  def front(self):\n",
        "      return self.queue[0] if not self.is_empty() else None\n",
        "  def rear(self):\n",
        "      return self.queue[-1] if not self.is_empty() else None\n",
        "  def is_empty(self):\n",
        "      return len(self.queue) == 0\n",
        "  def size(self):\n",
        "      return len(self.queue)\n",
        "\n",
        "#contoh penggunaan\n",
        "queue = QueueList()\n",
        "queue.enqueue(10)\n",
        "queue.enqueue(20)\n",
        "queue.enqueue(30)\n",
        "print(\"Queue setelah enqueue:\", queue.queue)\n",
        "print(\"Dequeued element:\", queue.dequeue())\n",
        "print(\"Front element:\", queue.front())\n",
        "print(\"Rear element:\", queue.rear())\n",
        "print(\"Queue size:\", queue.size())\n"
      ],
      "metadata": {
        "colab": {
          "base_uri": "https://localhost:8080/"
        },
        "id": "RWz8oj_atE-5",
        "outputId": "03872df2-4651-4458-aeb5-732a6e43aba2"
      },
      "execution_count": 6,
      "outputs": [
        {
          "output_type": "stream",
          "name": "stdout",
          "text": [
            "Queue setelah enqueue: [10, 20, 30]\n",
            "Dequeued element: 10\n",
            "Front element: 20\n",
            "Rear element: 30\n",
            "Queue size: 2\n"
          ]
        }
      ]
    },
    {
      "cell_type": "code",
      "source": [
        "#implementasi queue dengan queue.queue\n",
        "from  queue import Queue\n",
        "\n",
        "#implementasi Queue menggunakan queue.Queue\n",
        "queue = Queue()\n",
        "\n",
        "queue.put (10)\n",
        "queue.put (20)\n",
        "queue.put (30)\n",
        "print(\"Queue size:\", queue.qsize())\n",
        "print(\"Dequeued element:\", queue.get())\n",
        "print(\"Queue size setelah dequeue:\", queue.qsize ())\n",
        "\n"
      ],
      "metadata": {
        "colab": {
          "base_uri": "https://localhost:8080/"
        },
        "id": "u2azUpZavnaF",
        "outputId": "9e292e44-b111-4bf8-d7dc-3fa53a9b2015"
      },
      "execution_count": 8,
      "outputs": [
        {
          "output_type": "stream",
          "name": "stdout",
          "text": [
            "Queue size: 3\n",
            "Dequeued element: 10\n",
            "Queue size setelah dequeue: 2\n"
          ]
        }
      ]
    },
    {
      "cell_type": "code",
      "source": [
        "class Node:\n",
        "    def __init__(self, data):\n",
        "        self.data = data\n",
        "        self.next = None\n",
        "class QueueLinkedList:\n",
        "    def __init__(self):\n",
        "      self.front = self.rear = None\n",
        "\n",
        "    def enqueue (self, data):\n",
        "      new_node = Node(data)\n",
        "      if self.rear is None:\n",
        "          self.front = self.rear = new_node\n",
        "          return\n",
        "      self.rear.next = new_node\n",
        "      self.rear = new_node\n",
        "    def dequeue(self):\n",
        "      if self.front is None:\n",
        "          return None\n",
        "      dequeued_element = self.front.data\n",
        "      self.front = self.front.next\n",
        "      if self.front is None:\n",
        "          self.rear = None\n",
        "      return dequeued_element\n",
        "    def is_empty(self):\n",
        "      return self.front is None\n",
        "    def front_element(self):\n",
        "      return self.front.data if self.front else None\n",
        "    def rear_element(self):\n",
        "      return self.rear.data if self.rear else None\n",
        "# Contoh penggunaan\n",
        "queue = QueueLinkedList()\n",
        "queue.enqueue(10)\n",
        "queue.enqueue(20)\n",
        "queue.enqueue(30)\n",
        "print(\"Dequeued element:\", queue.dequeue())\n",
        "print(\"Front element:\", queue.front_element ())\n",
        "print(\"Rear element:\", queue.rear_element ())\n"
      ],
      "metadata": {
        "id": "rXyQ4fcyzQ0d",
        "colab": {
          "base_uri": "https://localhost:8080/"
        },
        "outputId": "da7f4c96-b9b5-44e0-cce6-08a8f6f560b2"
      },
      "execution_count": 7,
      "outputs": [
        {
          "output_type": "stream",
          "name": "stdout",
          "text": [
            "Dequeued element: 10\n",
            "Front element: 20\n",
            "Rear element: 30\n"
          ]
        }
      ]
    },
    {
      "cell_type": "code",
      "source": [],
      "metadata": {
        "id": "2pdHpAxyotPJ"
      },
      "execution_count": null,
      "outputs": []
    }
  ]
}