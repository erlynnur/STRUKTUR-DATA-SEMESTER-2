{
  "nbformat": 4,
  "nbformat_minor": 0,
  "metadata": {
    "colab": {
      "provenance": [],
      "authorship_tag": "ABX9TyPKPQTM41+wU0ymxozLE5kN",
      "include_colab_link": true
    },
    "kernelspec": {
      "name": "python3",
      "display_name": "Python 3"
    },
    "language_info": {
      "name": "python"
    }
  },
  "cells": [
    {
      "cell_type": "markdown",
      "metadata": {
        "id": "view-in-github",
        "colab_type": "text"
      },
      "source": [
        "<a href=\"https://colab.research.google.com/github/erlynnur/STRUKTUR-DATA-SEMESTER-2/blob/main/Soal_rombel_2_praktikum_week_6.ipynb\" target=\"_parent\"><img src=\"https://colab.research.google.com/assets/colab-badge.svg\" alt=\"Open In Colab\"/></a>"
      ]
    },
    {
      "cell_type": "code",
      "execution_count": 2,
      "metadata": {
        "colab": {
          "base_uri": "https://localhost:8080/"
        },
        "id": "JgzFmpkTOuvS",
        "outputId": "20290ea2-c82f-4775-e17e-c140e0aeeca3"
      },
      "outputs": [
        {
          "output_type": "stream",
          "name": "stdout",
          "text": [
            "Produk berdasarkan harga (termurah ke termahal):\n",
            "nama: Mesin Cuci D, harga: 1500000, rating: 4.2\n",
            "nama: Mesin Cuci E, harga: 2500000, rating: 4.7\n",
            "nama: Mesin Cuci B, harga: 3000000, rating: 4.0\n",
            "nama: Mesin Cuci A, harga: 4500000, rating: 4.5\n",
            "nama: Mesin Cuci C, harga: 20000000, rating: 4.8\n",
            "\n",
            "Produk berdasarkan rating (terendah ke tertinggi):\n",
            "nama: Mesin Cuci B, harga: 3000000, rating: 4.0\n",
            "nama: Mesin Cuci D, harga: 1500000, rating: 4.2\n",
            "nama: Mesin Cuci A, harga: 4500000, rating: 4.5\n",
            "nama: Mesin Cuci E, harga: 2500000, rating: 4.7\n",
            "nama: Mesin Cuci C, harga: 20000000, rating: 4.8\n"
          ]
        }
      ],
      "source": [
        "# Fungsi Quick Sort untuk mengurutkan produk berdasarkan harga atau rating\n",
        "def quick_sort(arr, key):\n",
        "    if len(arr) <= 1:\n",
        "        return arr  # rekursi\n",
        "\n",
        "    pivot = arr[len(arr) // 2]  # Memilih pivot sebagai elemen tengah\n",
        "    left = [x for x in arr if x[key] < pivot[key]]  # Elemen lebih kecil dari pivot\n",
        "    middle = [x for x in arr if x[key] == pivot[key]]  # Elemen sama dengan pivot\n",
        "    right = [x for x in arr if x[key] > pivot[key]]  # Elemen lebih besar dari pivot\n",
        "\n",
        "    return quick_sort(left, key) + middle + quick_sort(right, key)  # Rekursi dan penggabungan hasil\n",
        "\n",
        "# daftar produk\n",
        "daftar_produk = [\n",
        "    {\"nama\": \"Mesin Cuci A\", \"harga\": 4500000, \"rating\": 4.5},\n",
        "    {\"nama\": \"Mesin Cuci B\", \"harga\": 3000000, \"rating\": 4.0},\n",
        "    {\"nama\": \"Mesin Cuci C\", \"harga\": 20000000, \"rating\": 4.8},\n",
        "    {\"nama\": \"Mesin Cuci D\", \"harga\": 1500000, \"rating\": 4.2},\n",
        "    {\"nama\": \"Mesin Cuci E\", \"harga\": 2500000, \"rating\": 4.7}\n",
        "]\n",
        "\n",
        "# Mengurutkan produk berdasarkan harga\n",
        "produk_urut_harga = quick_sort(daftar_produk, \"harga\")\n",
        "print(\"Produk berdasarkan harga (termurah ke termahal):\")\n",
        "for produk in produk_urut_harga:\n",
        "    print(f\"nama: {produk['nama']}, harga: {produk['harga']}, rating: {produk['rating']}\")\n",
        "\n",
        "# Mengurutkan produk berdasarkan rating\n",
        "produk_urut_rating = quick_sort(daftar_produk, \"rating\")\n",
        "print(\"\\nProduk berdasarkan rating (terendah ke tertinggi):\")\n",
        "for produk in produk_urut_rating:\n",
        "    print(f\"nama: {produk['nama']}, harga: {produk['harga']}, rating: {produk['rating']}\")"
      ]
    },
    {
      "cell_type": "code",
      "source": [],
      "metadata": {
        "id": "JQ0HVqarOv0b"
      },
      "execution_count": null,
      "outputs": []
    }
  ]
}