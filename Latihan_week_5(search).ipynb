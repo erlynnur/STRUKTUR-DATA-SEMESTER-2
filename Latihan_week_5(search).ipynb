{
  "nbformat": 4,
  "nbformat_minor": 0,
  "metadata": {
    "colab": {
      "provenance": [],
      "authorship_tag": "ABX9TyNGnDR4CWNbZN4Ww7bIqWVj",
      "include_colab_link": true
    },
    "kernelspec": {
      "name": "python3",
      "display_name": "Python 3"
    },
    "language_info": {
      "name": "python"
    }
  },
  "cells": [
    {
      "cell_type": "markdown",
      "metadata": {
        "id": "view-in-github",
        "colab_type": "text"
      },
      "source": [
        "<a href=\"https://colab.research.google.com/github/erlynnur/STRUKTUR-DATA-SEMESTER-2/blob/main/Latihan_week_5(search).ipynb\" target=\"_parent\"><img src=\"https://colab.research.google.com/assets/colab-badge.svg\" alt=\"Open In Colab\"/></a>"
      ]
    },
    {
      "cell_type": "code",
      "execution_count": null,
      "metadata": {
        "colab": {
          "base_uri": "https://localhost:8080/"
        },
        "id": "g5urv7Ybq8NM",
        "outputId": "53795654-1587-4fee-abf5-582c0b1c2d01"
      },
      "outputs": [
        {
          "output_type": "stream",
          "name": "stdout",
          "text": [
            "masukkan 3 digit terakhir npm anda: 067\n",
            "element ditemukan pada indeks 5\n"
          ]
        }
      ],
      "source": [
        "#implementasi linier search\n",
        "def linear_search(arr, target):\n",
        "  for i in range(len(arr)):\n",
        "    if arr[i] == target:\n",
        "      return i\n",
        "  return -1\n",
        "#gantikan dengan angka acak dan NPM anda\n",
        "arr = [24, 16, 28, 13, 17, 67, 89, 19, 12, 36]\n",
        "target = int(input(\"masukkan 3 digit terakhir npm anda: \"))\n",
        "\n",
        "result = linear_search(arr, target)\n",
        "\n",
        "if result != -1:\n",
        "  print(f\"element ditemukan pada indeks {result}\")\n",
        "else:\n",
        "  print(\"element tidak ditemukan\")"
      ]
    },
    {
      "cell_type": "code",
      "source": [
        "#implementasi Binary Search\n",
        "def binary_search(arr, target):\n",
        "  low = 0\n",
        "  high = len(arr)-1\n",
        "\n",
        "  while low <= high:\n",
        "    mid = (low + high) // 2\n",
        "    if arr[mid] == target:\n",
        "      return mid\n",
        "    elif arr[mid] < target:\n",
        "      low = mid + 1\n",
        "    else:\n",
        "      high = mid - 1\n",
        "  return -1\n",
        "\n",
        "#gantilah dengan angka terurut dan tanggal lahir anda(DDMM)\n",
        "arr = [1101, 1402, 1602, 1803, 1903, 2103, 2503, 2803]\n",
        "target = int(input(\"masukkan tanggal lahir anda (DDMM): \"))\n",
        "\n",
        "result = binary_search(arr, target)\n",
        "\n",
        "if result != -1:\n",
        "  print(f\"element ditemukan pada indeks {result}\")\n",
        "else:\n",
        "  print(f\"element tidak ditemukan\")"
      ],
      "metadata": {
        "colab": {
          "base_uri": "https://localhost:8080/"
        },
        "id": "d63WnOpztBs3",
        "outputId": "40ae3b3f-ac8d-4375-ca7b-5fcbc8cce0ce"
      },
      "execution_count": null,
      "outputs": [
        {
          "output_type": "stream",
          "name": "stdout",
          "text": [
            "masukkan tanggal lahir anda (DDMM): 2803\n",
            "element ditemukan pada indeks 7\n"
          ]
        }
      ]
    },
    {
      "cell_type": "code",
      "source": [
        "#Implementasi Jump Search\n",
        "import math\n",
        "def jump_search (arr, target):\n",
        "    n = len(arr)\n",
        "    step = int(math.sqrt(n))\n",
        "    prev = 0\n",
        "    while arr[min (step, n) - 1] < target:\n",
        "        prev = step\n",
        "        step += int(math.sqrt (n))\n",
        "        if prev >= n:\n",
        "            return -1\n",
        "    for i in range(prev, min(step, n)):\n",
        "        if arr[i] == target:\n",
        "            return i\n",
        "    return -1\n",
        "#Gantilah dengan daftar nama teman-teman Anda dalam urutan alfabet\n",
        "arr = [\"Aldi\", \"Ciu\", \"David\", \"Evelyn\", \"Ferdi\", \"Ida\", \"Lulu\", \"Marimby\"]\n",
        "target = input(\"Masukkan inisial nama Anda: \")\n",
        "result = jump_search(arr, target)\n",
        "if result != -1:\n",
        "    print (f\"Elemen ditemukan pada indeks {result}\")\n",
        "else:\n",
        "    print(\"Elemen tidak ditemukan\")"
      ],
      "metadata": {
        "id": "iPA9iEQbwjHM",
        "colab": {
          "base_uri": "https://localhost:8080/"
        },
        "outputId": "1a500d23-bfa1-4290-fe5e-f637f0a1f5aa"
      },
      "execution_count": null,
      "outputs": [
        {
          "output_type": "stream",
          "name": "stdout",
          "text": [
            "Masukkan inisial nama Anda: Marimby\n",
            "Elemen ditemukan pada indeks 7\n"
          ]
        }
      ]
    },
    {
      "cell_type": "code",
      "source": [],
      "metadata": {
        "id": "tm7d5RNWW8iD"
      },
      "execution_count": null,
      "outputs": []
    }
  ]
}