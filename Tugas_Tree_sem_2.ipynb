{
  "nbformat": 4,
  "nbformat_minor": 0,
  "metadata": {
    "colab": {
      "provenance": [],
      "authorship_tag": "ABX9TyO8SofSg0t49RVhh1lZTad4",
      "include_colab_link": true
    },
    "kernelspec": {
      "name": "python3",
      "display_name": "Python 3"
    },
    "language_info": {
      "name": "python"
    }
  },
  "cells": [
    {
      "cell_type": "markdown",
      "metadata": {
        "id": "view-in-github",
        "colab_type": "text"
      },
      "source": [
        "<a href=\"https://colab.research.google.com/github/erlynnur/STRUKTUR-DATA-SEMESTER-2/blob/main/Tugas_Tree_sem_2.ipynb\" target=\"_parent\"><img src=\"https://colab.research.google.com/assets/colab-badge.svg\" alt=\"Open In Colab\"/></a>"
      ]
    },
    {
      "cell_type": "code",
      "source": [
        "#Tugas 1\n",
        "# Struktur Tree berdasarkan identitas saya\n",
        "class Node:\n",
        "    def __init__(self, data):\n",
        "        self.data = data\n",
        "        self.left = None\n",
        "        self.right = None\n",
        "\n",
        "def inorder(node):\n",
        "    if node:\n",
        "        inorder(node.left)\n",
        "        print(node.data, end=' ')\n",
        "        inorder(node.right)\n",
        "\n",
        "# Hitung data berdasarkan identitas\n",
        "nama = \"Erlyn Nur Rizqi Maulidya\"  # Nama saya\n",
        "npm = \"2430506067\"   # NPM\n",
        "jumlah_huruf = 16  # Jumlah huruf pada nama lengkap\n",
        "jumlah_vokal = 8   # Jumlah huruf vokal pada nama\n",
        "dua_digit_npm = 67 # Dua digit terakhir dari NPM\n",
        "tanggal_lahir = 28 # Tanggal lahir (DD)\n",
        "bulan_lahir = 3    # Bulan lahir (MM)\n",
        "\n",
        "# Membuat tree\n",
        "root = Node(jumlah_huruf)\n",
        "root.left = Node(jumlah_vokal)\n",
        "root.right = Node(dua_digit_npm)\n",
        "root.left.left = Node(tanggal_lahir)\n",
        "root.right.right = Node(bulan_lahir)\n",
        "\n",
        "# Tampilkan hasil\n",
        "print(\"Struktur Tree berdasarkan identitas saya:\")\n",
        "inorder(root)"
      ],
      "metadata": {
        "colab": {
          "base_uri": "https://localhost:8080/"
        },
        "id": "7CE2D-E_x03o",
        "outputId": "0fa7de93-7aad-4cc5-8a22-b0369eec384a"
      },
      "execution_count": 6,
      "outputs": [
        {
          "output_type": "stream",
          "name": "stdout",
          "text": [
            "Struktur Tree berdasarkan identitas saya:\n",
            "28 8 16 67 3 "
          ]
        }
      ]
    },
    {
      "cell_type": "code",
      "source": [
        "#tugas 2\n",
        "class BSTNode:\n",
        "    def __init__(self, data):\n",
        "        self.data = data\n",
        "        self.left = None\n",
        "        self.right = None\n",
        "\n",
        "def insert(root, key):\n",
        "    if root is None:\n",
        "        return BSTNode(key)\n",
        "    if key < root.data:\n",
        "        root.left = insert(root.left, key)\n",
        "    else:\n",
        "        root.right = insert(root.right, key)\n",
        "    return root\n",
        "\n",
        "def inorder(node):\n",
        "    if node:\n",
        "        inorder(node.left)\n",
        "        print(node.data, end=' ')\n",
        "        inorder(node.right)\n",
        "\n",
        "def preorder(node):\n",
        "    if node:\n",
        "        print(node.data, end=' ')\n",
        "        preorder(node.left)\n",
        "        preorder(node.right)\n",
        "\n",
        "def postorder(node):\n",
        "    if node:\n",
        "        postorder(node.left)\n",
        "        postorder(node.right)\n",
        "        print(node.data, end=' ')\n",
        "\n",
        "def search(root, key):\n",
        "    if root is None or root.data == key:\n",
        "        return root\n",
        "    if key < root.data:\n",
        "        return search(root.left, key)\n",
        "    return search(root.right, key)\n",
        "\n",
        "# Data: NPM(067), Tanggal(28), Bulan(03), ASCII E(69), ASCII R(82), Favorit(16), favorit(2)\n",
        "data_list = [67, 28, 3, 69, 82, 16, 2]\n",
        "\n",
        "# Membuat BST\n",
        "bst_root = None\n",
        "for item in data_list:\n",
        "    bst_root = insert(bst_root, item)\n",
        "\n",
        "# Traversal\n",
        "print(\"Inorder Traversal:\")\n",
        "inorder(bst_root)\n",
        "print(\"\\n\")\n",
        "\n",
        "print(\"Preorder Traversal:\")\n",
        "preorder(bst_root)\n",
        "print(\"\\n\")\n",
        "\n",
        "print(\"Postorder Traversal:\")\n",
        "postorder(bst_root)\n",
        "print(\"\\n\")\n",
        "\n",
        "# Pencarian\n",
        "search_value1 = 67  # Dua digit terakhir NPM\n",
        "print(f\"Cari angka {search_value1}: {'Ditemukan' if search(bst_root, search_value1) else 'Tidak ditemukan'}\")\n",
        "\n",
        "search_value2 = 18  # Nilai yang tidak ada\n",
        "print(f\"Cari angka {search_value2}: {'Ditemukan' if search(bst_root, search_value2) else 'Tidak ditemukan'}\")\n"
      ],
      "metadata": {
        "colab": {
          "base_uri": "https://localhost:8080/"
        },
        "id": "2hAnpC5K89NV",
        "outputId": "30539a1c-863b-4fa8-fcbf-6abd76b68218"
      },
      "execution_count": 5,
      "outputs": [
        {
          "output_type": "stream",
          "name": "stdout",
          "text": [
            "Inorder Traversal:\n",
            "2 3 16 28 67 69 82 \n",
            "\n",
            "Preorder Traversal:\n",
            "67 28 3 2 16 69 82 \n",
            "\n",
            "Postorder Traversal:\n",
            "2 16 3 28 82 69 67 \n",
            "\n",
            "Cari angka 67: Ditemukan\n",
            "Cari angka 18: Tidak ditemukan\n"
          ]
        }
      ]
    },
    {
      "cell_type": "code",
      "source": [],
      "metadata": {
        "id": "ySKzZL9W9yTK"
      },
      "execution_count": null,
      "outputs": []
    }
  ]
}