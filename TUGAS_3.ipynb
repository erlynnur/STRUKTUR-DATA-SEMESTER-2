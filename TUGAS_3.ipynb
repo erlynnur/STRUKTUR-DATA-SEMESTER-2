{
  "nbformat": 4,
  "nbformat_minor": 0,
  "metadata": {
    "colab": {
      "provenance": [],
      "authorship_tag": "ABX9TyNr1LS801yVqsBWSwAJ/yTK",
      "include_colab_link": true
    },
    "kernelspec": {
      "name": "python3",
      "display_name": "Python 3"
    },
    "language_info": {
      "name": "python"
    }
  },
  "cells": [
    {
      "cell_type": "markdown",
      "metadata": {
        "id": "view-in-github",
        "colab_type": "text"
      },
      "source": [
        "<a href=\"https://colab.research.google.com/github/erlynnur/STRUKTUR-DATA-SEMESTER-2/blob/main/TUGAS_3.ipynb\" target=\"_parent\"><img src=\"https://colab.research.google.com/assets/colab-badge.svg\" alt=\"Open In Colab\"/></a>"
      ]
    },
    {
      "cell_type": "code",
      "execution_count": 6,
      "metadata": {
        "colab": {
          "base_uri": "https://localhost:8080/"
        },
        "id": "h_NHL4qTaxuv",
        "outputId": "1a9693c4-2d0c-41ff-adb1-31fa5089d701"
      },
      "outputs": [
        {
          "output_type": "stream",
          "name": "stdout",
          "text": [
            "masukkan NPM kamu bub: 67\n",
            "gudang kapasitas maksimalnya: 67 barang\n",
            "\n",
            "menu yang ada di gudang:\n",
            "1. nambah barang\n",
            "2. ngambil barang\n",
            "3. mengecek isi gudang\n",
            "4. Keluar\n",
            "Pilih operasi (1-4): 1\n",
            "Masukkan nama barang terserah kamu: abimanyu\n",
            "ini barang 'abimanyu' berhasil ditambahkan. Sisa kapasitas dalam gudang : 66\n",
            "\n",
            "menu yang ada di gudang:\n",
            "1. nambah barang\n",
            "2. ngambil barang\n",
            "3. mengecek isi gudang\n",
            "4. Keluar\n",
            "Pilih operasi (1-4): 1\n",
            "Masukkan nama barang terserah kamu: jati\n",
            "ini barang 'jati' berhasil ditambahkan. Sisa kapasitas dalam gudang : 65\n",
            "\n",
            "menu yang ada di gudang:\n",
            "1. nambah barang\n",
            "2. ngambil barang\n",
            "3. mengecek isi gudang\n",
            "4. Keluar\n",
            "Pilih operasi (1-4): 2\n",
            "Barang 'jati' dah diambil dari gudang. Sisa barang di gudang : 1\n",
            "\n",
            "menu yang ada di gudang:\n",
            "1. nambah barang\n",
            "2. ngambil barang\n",
            "3. mengecek isi gudang\n",
            "4. Keluar\n",
            "Pilih operasi (1-4): 3\n",
            "isi gudang dari paling atas:\n",
            "abimanyu\n",
            "\n",
            "menu yang ada di gudang:\n",
            "1. nambah barang\n",
            "2. ngambil barang\n",
            "3. mengecek isi gudang\n",
            "4. Keluar\n",
            "Pilih operasi (1-4): 4\n",
            "trimzzzz!\n"
          ]
        }
      ],
      "source": [
        "class barang_gudang:\n",
        "    def __init__(self, npm):\n",
        "        # mengambil 2 digit terakhir NPM sebagai kapasitas maksimal dari gudang\n",
        "        self.maks_kapasitas = int(str(npm)[-2:])\n",
        "        self.barang_numpuk = []\n",
        "        print(f\"gudang kapasitas maksimalnya: {self.maks_kapasitas} barang\")\n",
        "\n",
        "    def tambah_barang(self, barang):\n",
        "        # mengecek apakah gudang masih bisa menampung barang\n",
        "        if len(self.barang_numpuk) < self.maks_kapasitas:\n",
        "            self.barang_numpuk.append(barang)\n",
        "            print(f\"ini barang '{barang}' berhasil ditambahkan. Sisa kapasitas dalam gudang : {self.maks_kapasitas - len(self.barang_numpuk)}\")\n",
        "        else:\n",
        "            print(\"gudang tuh udah penuh! Tidak bisa nambah barang lagi nieh.\")\n",
        "\n",
        "    def ambil_barang(self):\n",
        "        # mengambil barang terakhir yang masuk (LIFO)\n",
        "        if self.barang_numpuk:\n",
        "            barang = self.barang_numpuk.pop()\n",
        "            print(f\"Barang '{barang}' dah diambil dari gudang. Sisa barang di gudang : {len(self.barang_numpuk)}\")\n",
        "            return barang\n",
        "        else:\n",
        "            print(\"hayo gudang kosong! Tidak ada barang yang bisa kamu ambil.\")\n",
        "            return None\n",
        "\n",
        "    def cek_gudang(self):\n",
        "        # menampilkan isi gudang\n",
        "        if self.barang_numpuk:\n",
        "            print(\"isi gudang dari paling atas:\")\n",
        "            for barang in reversed(self.barang_numpuk):\n",
        "                print(barang)\n",
        "        else:\n",
        "            print(\"gudang kosong nieh.\")\n",
        "\n",
        "# menginput NPM\n",
        "npm = input(\"masukkan NPM kamu bub: \")\n",
        "\n",
        "\n",
        "# membuat objek gudang\n",
        "gudang = barang_gudang(npm)\n",
        "\n",
        "# Simulasi penggunaan gudang nieh yeah\n",
        "while True:\n",
        "    print(\"\\nmenu yang ada di gudang:\")\n",
        "    print(\"1. nambah barang\")\n",
        "    print(\"2. ngambil barang\")\n",
        "    print(\"3. mengecek isi gudang\")\n",
        "    print(\"4. Keluar\")\n",
        "\n",
        "    pilihan = input(\"Pilih operasi (1-4): \")\n",
        "\n",
        "    if pilihan == '1':\n",
        "        barang = input(\"Masukkan nama barang terserah kamu: \")\n",
        "        gudang.tambah_barang(barang)\n",
        "    elif pilihan == '2':\n",
        "        gudang.ambil_barang()\n",
        "    elif pilihan == '3':\n",
        "        gudang.cek_gudang()\n",
        "    elif pilihan == '4':\n",
        "        print(\"trimzzzz!\")\n",
        "        break\n",
        "    else:\n",
        "        print(\"Pilihan gak valid. coba lagi bub.\")"
      ]
    },
    {
      "cell_type": "code",
      "source": [
        "'\n",
        "\n",
        "\n",
        "'"
      ],
      "metadata": {
        "id": "XI-SVHlFa6uf"
      },
      "execution_count": null,
      "outputs": []
    }
  ]
}