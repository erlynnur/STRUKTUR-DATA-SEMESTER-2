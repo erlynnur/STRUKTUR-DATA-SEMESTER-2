{
  "nbformat": 4,
  "nbformat_minor": 0,
  "metadata": {
    "colab": {
      "provenance": [],
      "authorship_tag": "ABX9TyPSzXifm+9vee6vWljXJPKJ",
      "include_colab_link": true
    },
    "kernelspec": {
      "name": "python3",
      "display_name": "Python 3"
    },
    "language_info": {
      "name": "python"
    }
  },
  "cells": [
    {
      "cell_type": "markdown",
      "metadata": {
        "id": "view-in-github",
        "colab_type": "text"
      },
      "source": [
        "<a href=\"https://colab.research.google.com/github/erlynnur/STRUKTUR-DATA-SEMESTER-2/blob/main/Latihan_dan_Percobaan.ipynb\" target=\"_parent\"><img src=\"https://colab.research.google.com/assets/colab-badge.svg\" alt=\"Open In Colab\"/></a>"
      ]
    },
    {
      "cell_type": "code",
      "source": [
        "#percobaan 1\n",
        "# Deklarasi array kosong\n",
        "data = []\n",
        "# Inisialisasi array dengan elemen\n",
        "angka = [10, 20, 30, 40, 50]\n",
        "# Menampilkan isi array\n",
        "print(\"Isi array angka:\", angka)\n",
        "\n",
        "#percobaan 2\n",
        " # Mengakses elemen Array\n",
        "print(\"Elemen pertama:\", angka [0]) # Elemen pertama\n",
        "print(\"Elemen terakhir:\", angka [-1]) # Elemen terakhir\n",
        "\n",
        "# Menambah elemen menggunakan append()\n",
        "angka.append(60)\n",
        "print(\"Array setelah penambahan elemen:\", angka)\n",
        "# Menambah elemen menggunakan insert()\n",
        "angka.insert(2, 25) # Menyisipkan 25 di indeks ke-2\n",
        "print(\"Array setelah penambahan elemen dengan insert:\", angka)\n",
        "\n",
        "# Menghapus elemen menggunakan remove()\n",
        "angka.remove (25)\n",
        "# Menghapus nilai 25\n",
        "print(\"Array setelah menghapus elemen 25:\", angka)\n",
        "# Menghapus elemen menggunakan pop()\n",
        "angka.pop (2) # Menghapus elemen pada indeks ke-2\n",
        "print(\"Array setelah menghapus elemen pada indeks 2:\", angka)\n",
        "\n",
        "#Mengubah elemen pada indeks 0\n",
        "angka [0] = 100\n",
        "print (\"Array setelah mengubah elemen pertama:\", angka)\n",
        "\n",
        "#percobaan 3\n",
        "angka = [10, 20, 30, 40]\n",
        "\n",
        "for nilai in angka:\n",
        "  print(\"Nilai:\", nilai)\n",
        "\n",
        "#percobaan 4\n",
        "angka = [10, 20, 30, 40]\n",
        "print(\"Jumlah total:\", sum(angka))\n",
        "print(\"Nilai maksimum:\", max(angka))\n",
        "print(\"Nilai minimum:\", min(angka))\n",
        "\n",
        "\n",
        "#percobaan 5\n",
        "# Deklarasi array 2D\n",
        "matriks = [\n",
        "[1, 2, 3],\n",
        "[4, 5, 6],\n",
        "[7, 8, 9]\n",
        "]\n",
        "# Menampilkan isi array 2D\n",
        "print(\"Isi array 2D:\")\n",
        "for baris in matriks:\n",
        "  print (baris)\n",
        "\n",
        "#percobaan 6\n",
        "# Mengakses elemen pada baris ke-1, kolom ke-2 (indeks [0] [1])\n",
        "print(\"Elemen pada baris 1, kolom 2:\", matriks [0] [1])\n",
        "#Mengakses elemen terakhir (baris ke-3, kolom ke-3)\n",
        "print(\"Elemen terakhir:\", matriks [-1] [-1])\n",
        "\n",
        "#percobaan 7\n",
        "# Menambahkan baris baru\n",
        "matriks.append([10, 11, 12])\n",
        "print(\"Array setelah menambahkan baris baru:\", matriks)\n",
        "# Menambahkan elemen pada baris ke-2\n",
        "matriks[1].append(99)\n",
        "print(\"Array setelah menambahkan elemen di baris ke-2:\", matriks)\n",
        "\n",
        "#percobaan 8\n",
        "# Menghapus elemen tertentu dari baris ke-1\n",
        "matriks[0].remove(2)\n",
        "print(\"Array setelah menghapus elemen 2 dari baris pertama:\", matriks)\n",
        "# Menghapus elemen pada indeks tertentu dari baris ke-2\n",
        "matriks[1].pop(1)\n",
        "print(\"Array setelah menghapus elemen indeks ke-1 dari baris ke-2:\", matriks)\n",
        "\n",
        "#percobaan 9\n",
        "#Mengubah elemen pada baris ke-3, kolom ke-2\n",
        "matriks [2] [1]=88\n",
        "print(\"Array setelah mengubah elemen baris ke-3, kolom ke-2:\", matriks)\n",
        "\n",
        "#percobaan 10\n",
        "belanja = [\"Beras\", \"Gula\", \"Minyak\"]\n",
        "belanja.append(\"Teh\")\n",
        "belanja.remove(\"Gula\")\n",
        "print(\"Daftar belanja terbaru:\", belanja)"
      ],
      "metadata": {
        "colab": {
          "base_uri": "https://localhost:8080/"
        },
        "id": "PBFtQlrhV6xf",
        "outputId": "99411e3d-b1d4-416e-bab3-7069f4c464fc"
      },
      "execution_count": null,
      "outputs": [
        {
          "output_type": "stream",
          "name": "stdout",
          "text": [
            "Isi array angka: [10, 20, 30, 40, 50]\n",
            "Elemen pertama: 10\n",
            "Elemen terakhir: 50\n",
            "Array setelah penambahan elemen: [10, 20, 30, 40, 50, 60]\n",
            "Array setelah penambahan elemen dengan insert: [10, 20, 25, 30, 40, 50, 60]\n",
            "Array setelah menghapus elemen 25: [10, 20, 30, 40, 50, 60]\n",
            "Array setelah menghapus elemen pada indeks 2: [10, 20, 40, 50, 60]\n",
            "Array setelah mengubah elemen pertama: [100, 20, 40, 50, 60]\n",
            "Nilai: 10\n",
            "Nilai: 20\n",
            "Nilai: 30\n",
            "Nilai: 40\n",
            "Jumlah total: 100\n",
            "Nilai maksimum: 40\n",
            "Nilai minimum: 10\n",
            "Isi array 2D:\n",
            "[1, 2, 3]\n",
            "[4, 5, 6]\n",
            "[7, 8, 9]\n",
            "Elemen pada baris 1, kolom 2: 2\n",
            "Elemen terakhir: 9\n",
            "Array setelah menambahkan baris baru: [[1, 2, 3], [4, 5, 6], [7, 8, 9], [10, 11, 12]]\n",
            "Array setelah menambahkan elemen di baris ke-2: [[1, 2, 3], [4, 5, 6, 99], [7, 8, 9], [10, 11, 12]]\n",
            "Array setelah menghapus elemen 2 dari baris pertama: [[1, 3], [4, 5, 6, 99], [7, 8, 9], [10, 11, 12]]\n",
            "Array setelah menghapus elemen indeks ke-1 dari baris ke-2: [[1, 3], [4, 6, 99], [7, 8, 9], [10, 11, 12]]\n",
            "Array setelah mengubah elemen baris ke-3, kolom ke-2: [[1, 3], [4, 6, 99], [7, 88, 9], [10, 11, 12]]\n",
            "Daftar belanja terbaru: ['Beras', 'Minyak', 'Teh']\n"
          ]
        }
      ]
    },
    {
      "cell_type": "code",
      "source": [
        "#Latihan 1\n",
        "data = []\n",
        "#inisialisasi array angka npm\n",
        "npm_mahasiswa = [2430506064, 2430506065, 2430506066, 2430506067]\n",
        "#nampilin isi array\n",
        "print(\"isi array npm:\", npm_mahasiswa)"
      ],
      "metadata": {
        "colab": {
          "base_uri": "https://localhost:8080/"
        },
        "id": "YVV4AxRV8YPp",
        "outputId": "f80aa4ea-b269-4eaa-ab17-dec76f3414b3"
      },
      "execution_count": null,
      "outputs": [
        {
          "output_type": "stream",
          "name": "stdout",
          "text": [
            "isi array npm: [2430506064, 2430506065, 2430506066, 2430506067]\n"
          ]
        }
      ]
    },
    {
      "cell_type": "code",
      "source": [
        "#Latihan 2\n",
        "data = []\n",
        "npm_mahasiswa = [2430506067, 2430506068, 2430506069, 2430506070]\n",
        "print(\"isi array npm:\", npm_mahasiswa)\n",
        "print(\"Element kedua:\", npm_mahasiswa[1])\n",
        "print(\"Element terakhir:\", npm_mahasiswa[-1])\n",
        "\n",
        "npm_mahasiswa.append(2430506071)\n",
        "print(\"Array setelah penambahan elemen:\", npm_mahasiswa)\n",
        "\n",
        "npm_mahasiswa.pop(1)\n",
        "print(\"Array setelah menghapus elemen ke 2:\", npm_mahasiswa)\n",
        "\n",
        "npm_mahasiswa[1] = 2430506072\n",
        "print(\"Array setelah mengubah element kedua:\",npm_mahasiswa)\n",
        "\n",
        "\n"
      ],
      "metadata": {
        "id": "80pNIy009oX3",
        "colab": {
          "base_uri": "https://localhost:8080/"
        },
        "outputId": "1383f772-4d75-4f2a-fdfd-f71490aae245"
      },
      "execution_count": null,
      "outputs": [
        {
          "output_type": "stream",
          "name": "stdout",
          "text": [
            "isi array npm: [2430506067, 2430506068, 2430506069, 2430506070]\n",
            "Element kedua: 2430506068\n",
            "Element terakhir: 2430506070\n",
            "Array setelah penambahan elemen: [2430506067, 2430506068, 2430506069, 2430506070, 2430506071]\n",
            "Array setelah menghapus elemen ke 2: [2430506067, 2430506069, 2430506070, 2430506071]\n",
            "Array setelah mengubah element kedua: [2430506067, 2430506072, 2430506070, 2430506071]\n"
          ]
        }
      ]
    },
    {
      "cell_type": "code",
      "source": [
        "#latihan 2\n",
        "data = []\n",
        "npm_mahasiswa = [63, 64, 65, 66, 67]\n",
        "print(\"isi array npm:\", npm_mahasiswa)\n",
        "print(\"Element pertama:\", npm_mahasiswa[1])\n",
        "print(\"Element terakhir:\", npm_mahasiswa[-1])\n",
        "\n",
        "npm_mahasiswa.append(68)\n",
        "print(\"Array setelah penambahan elemen:\", npm_mahasiswa)\n",
        "\n",
        "npm_mahasiswa.remove(63)\n",
        "print(\"Array setelah menghapus elemen pertama:\", npm_mahasiswa)\n",
        "\n",
        "npm_mahasiswa[1] = 70\n",
        "print(\"Array setelah mengubah element kedua:\",npm_mahasiswa)\n"
      ],
      "metadata": {
        "colab": {
          "base_uri": "https://localhost:8080/"
        },
        "id": "LKTDPPCIycSL",
        "outputId": "c32df7d9-5d7f-4104-e976-4e9963a7ba81"
      },
      "execution_count": null,
      "outputs": [
        {
          "output_type": "stream",
          "name": "stdout",
          "text": [
            "isi array npm: [63, 64, 65, 66, 67]\n",
            "Element pertama: 64\n",
            "Element terakhir: 67\n",
            "Array setelah penambahan elemen: [63, 64, 65, 66, 67, 68]\n",
            "Array setelah menghapus elemen pertama: [64, 65, 66, 67, 68]\n",
            "Array setelah mengubah element kedua: [64, 70, 66, 67, 68]\n"
          ]
        }
      ]
    },
    {
      "cell_type": "code",
      "source": [
        "#latihan 3\n",
        "\n",
        "Fakultas = [\"teknik\",\n",
        "    \"ekonomi\",\n",
        "    \"keguruan dan ilmu pendidikan\",\n",
        "    \"ilmu sosial dan politik\",\n",
        "    \"pertanian\"]\n",
        "for Fakultas in Fakultas:\n",
        "    print(\"Fakultas Untidar:\", Fakultas)\n"
      ],
      "metadata": {
        "colab": {
          "base_uri": "https://localhost:8080/"
        },
        "id": "WA0WtFfV1LHw",
        "outputId": "c572c17c-1828-4d6e-ed41-b7897873cbaf"
      },
      "execution_count": null,
      "outputs": [
        {
          "output_type": "stream",
          "name": "stdout",
          "text": [
            "Fakultas Untidar: teknik\n",
            "Fakultas Untidar: ekonomi\n",
            "Fakultas Untidar: keguruan dan ilmu pendidikan\n",
            "Fakultas Untidar: ilmu sosial dan politik\n",
            "Fakultas Untidar: pertanian\n"
          ]
        }
      ]
    },
    {
      "cell_type": "code",
      "source": [
        "#LATIHAN 4\n",
        "harga_barang = [10000, 15000, 20000, 25000]\n",
        "print(\"Jumlah total:\", sum(harga_barang))"
      ],
      "metadata": {
        "colab": {
          "base_uri": "https://localhost:8080/"
        },
        "id": "aBmtG9_k-xX0",
        "outputId": "e6ff53f5-507e-4f68-9e9d-20ac46a4f092"
      },
      "execution_count": null,
      "outputs": [
        {
          "output_type": "stream",
          "name": "stdout",
          "text": [
            "Jumlah total: 70000\n"
          ]
        }
      ]
    },
    {
      "cell_type": "code",
      "source": [
        "#Latihan 5\n",
        "matriks = [\n",
        "[1, 2, 3, 5],\n",
        "[4, 5, 6, 7],\n",
        "[7, 8, 9, 11]\n",
        "]\n",
        "# Menampilkan isi array 2D\n",
        "print(\"Isi array 2D:\")\n",
        "for baris in matriks:\n",
        "  print (baris)"
      ],
      "metadata": {
        "id": "gTu7m8I3AI5a",
        "colab": {
          "base_uri": "https://localhost:8080/"
        },
        "outputId": "500e44c6-662f-4530-f191-9ed9f3843507"
      },
      "execution_count": null,
      "outputs": [
        {
          "output_type": "stream",
          "name": "stdout",
          "text": [
            "Isi array 2D:\n",
            "[1, 2, 3, 5]\n",
            "[4, 5, 6, 7]\n",
            "[7, 8, 9, 11]\n"
          ]
        }
      ]
    },
    {
      "cell_type": "code",
      "source": [
        "#LATIHAN 6 (dari latihan 5)\n",
        "#Latihan 5\n",
        "matriks = [\n",
        "[1, 2, 3, 5],\n",
        "[4, 5, 6, 7],\n",
        "[7, 8, 9, 11]\n",
        "]\n",
        "# Menampilkan isi array 2D\n",
        "print(\"Isi array 2D:\")\n",
        "for baris in matriks:\n",
        "  print (baris)\n",
        "#Nah dibawah ini latihan 6-nya\n",
        "# Mengakses elemen pada baris ke-2, kolom ke-4 (indeks [1] [3])\n",
        "print(\"Elemen pada baris 2, kolom 4:\", matriks [1] [3])\n"
      ],
      "metadata": {
        "colab": {
          "base_uri": "https://localhost:8080/"
        },
        "id": "Ikbqm31fvua8",
        "outputId": "91fcbab8-ffbd-40dc-f2fe-49016b525613"
      },
      "execution_count": null,
      "outputs": [
        {
          "output_type": "stream",
          "name": "stdout",
          "text": [
            "Isi array 2D:\n",
            "[1, 2, 3, 5]\n",
            "[4, 5, 6, 7]\n",
            "[7, 8, 9, 11]\n",
            "Elemen pada baris 2, kolom 4: 7\n"
          ]
        }
      ]
    },
    {
      "cell_type": "code",
      "source": [
        "#Latihan 7\n",
        "matriks = [\n",
        "[1, 2, 3, 5],\n",
        "[4, 5, 6, 7],\n",
        "[7, 8, 9, 11]\n",
        "]\n",
        "matriks.append([28, 3, 20, 7])\n",
        "print(\"Array setelah menambahkan baris baru:\", matriks)\n",
        "for baris in matriks:\n",
        "  print(baris)"
      ],
      "metadata": {
        "colab": {
          "base_uri": "https://localhost:8080/"
        },
        "id": "kR5wGmARvzB7",
        "outputId": "c4ab1a75-7454-4d8b-db36-d57ba260e6b5"
      },
      "execution_count": null,
      "outputs": [
        {
          "output_type": "stream",
          "name": "stdout",
          "text": [
            "Array setelah menambahkan baris baru: [[1, 2, 3, 5], [4, 5, 6, 7], [7, 8, 9, 11], [28, 3, 20, 7]]\n",
            "[1, 2, 3, 5]\n",
            "[4, 5, 6, 7]\n",
            "[7, 8, 9, 11]\n",
            "[28, 3, 20, 7]\n"
          ]
        }
      ]
    },
    {
      "cell_type": "code",
      "source": [
        "#Latihan 8\n",
        "matriks = [\n",
        "[1, 2, 3, 5],\n",
        "[4, 5, 6, 7],\n",
        "[7, 8, 9, 11]\n",
        "]\n",
        "matriks.append([28, 3, 20, 7])\n",
        "matriks[3].pop(2)\n",
        "print(\"Array setelah menghapus elemen indeks ke-3 dari baris ke-4:\", matriks)\n",
        "for baris in matriks:\n",
        "  print(baris)\n"
      ],
      "metadata": {
        "colab": {
          "base_uri": "https://localhost:8080/"
        },
        "id": "sXWIUhDQ9k7j",
        "outputId": "f5edabe3-8757-4c60-e601-874a8ca693c7"
      },
      "execution_count": null,
      "outputs": [
        {
          "output_type": "stream",
          "name": "stdout",
          "text": [
            "Array setelah menghapus elemen indeks ke-3 dari baris ke-4: [[1, 2, 3, 5], [4, 5, 6, 7], [7, 8, 9, 11], [28, 3, 7]]\n",
            "[1, 2, 3, 5]\n",
            "[4, 5, 6, 7]\n",
            "[7, 8, 9, 11]\n",
            "[28, 3, 7]\n"
          ]
        }
      ]
    },
    {
      "cell_type": "code",
      "source": [
        "#Latihan 9\n",
        "matriks = [\n",
        "[1, 2, 3, 5],\n",
        "[4, 5, 6, 7],\n",
        "[7, 8, 9, 11]\n",
        "]\n",
        "matriks.append([28, 3, 20, 7])\n",
        "matriks[3].pop(2)\n",
        "matriks[3][2] = 18\n",
        "print(\"Array tanggal hari ini: \")\n",
        "for baris in matriks:\n",
        "  print(baris)"
      ],
      "metadata": {
        "colab": {
          "base_uri": "https://localhost:8080/"
        },
        "id": "u74W9Hc7-Kn5",
        "outputId": "2f5dd896-d190-4187-830b-ab33062c5ca4"
      },
      "execution_count": null,
      "outputs": [
        {
          "output_type": "stream",
          "name": "stdout",
          "text": [
            "Array tanggal hari ini: \n",
            "[1, 2, 3, 5]\n",
            "[4, 5, 6, 7]\n",
            "[7, 8, 9, 11]\n",
            "[28, 3, 18]\n"
          ]
        }
      ]
    },
    {
      "cell_type": "code",
      "source": [
        "#Latihan 10\n",
        "belanja = [\"DIMSUM\", \"SUNSCREEN\", \"FACEWASH\", \"MOISTURIZER\"]\n",
        "belanja.append(\"SERUM\")\n",
        "belanja.remove(\"DIMSUM\")\n",
        "\n",
        "print(\"Daftar belanjaku: \", belanja)"
      ],
      "metadata": {
        "colab": {
          "base_uri": "https://localhost:8080/"
        },
        "id": "gykwXScqCAOm",
        "outputId": "9b839107-3718-4285-a6c3-42d5513ebfb2"
      },
      "execution_count": null,
      "outputs": [
        {
          "output_type": "stream",
          "name": "stdout",
          "text": [
            "Daftar belanjaku:  ['SUNSCREEN', 'FACEWASH', 'MOISTURIZER', 'SERUM']\n"
          ]
        }
      ]
    },
    {
      "cell_type": "code",
      "source": [],
      "metadata": {
        "id": "1PRZ1uF6Cieb"
      },
      "execution_count": null,
      "outputs": []
    },
    {
      "cell_type": "code",
      "source": [],
      "metadata": {
        "id": "vyt61-9CcexD"
      },
      "execution_count": null,
      "outputs": []
    }
  ]
}