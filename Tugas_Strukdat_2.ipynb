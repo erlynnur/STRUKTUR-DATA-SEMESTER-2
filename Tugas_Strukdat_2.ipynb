{
  "nbformat": 4,
  "nbformat_minor": 0,
  "metadata": {
    "colab": {
      "provenance": [],
      "authorship_tag": "ABX9TyO4JsM29Cm3hAlWopWSihGc",
      "include_colab_link": true
    },
    "kernelspec": {
      "name": "python3",
      "display_name": "Python 3"
    },
    "language_info": {
      "name": "python"
    }
  },
  "cells": [
    {
      "cell_type": "markdown",
      "metadata": {
        "id": "view-in-github",
        "colab_type": "text"
      },
      "source": [
        "<a href=\"https://colab.research.google.com/github/erlynnur/STRUKTUR-DATA-SEMESTER-2/blob/main/Tugas_Strukdat_2.ipynb\" target=\"_parent\"><img src=\"https://colab.research.google.com/assets/colab-badge.svg\" alt=\"Open In Colab\"/></a>"
      ]
    },
    {
      "cell_type": "code",
      "source": [
        "class Node:\n",
        "  def __init__(self, name):\n",
        "    self.name = name\n",
        "    self.next = None\n",
        "\n",
        "class CircularSatpamList:\n",
        "  def __init__(self):\n",
        "    self.head = None\n",
        "\n",
        "  def add_node(self, name):\n",
        "    new_node = Node(name)\n",
        "    if not self.head:\n",
        "      self.head = new_node\n",
        "      self.head.next = self.head\n",
        "    else:\n",
        "      temp = self.head\n",
        "      while temp.next != self.head:\n",
        "        temp = temp.next\n",
        "      temp.next = new_node\n",
        "      new_node.next = self.head\n",
        "\n",
        "  def schedule(self, days):\n",
        "    current = self.head\n",
        "    print(\"\\n Jadwal piket satpam selama 2 minggu: \\n\")\n",
        "    for day in range(1, days + 1):\n",
        "      print(f\"Hari {day}: {current.name}\")\n",
        "      current = current.next\n",
        "\n",
        "satpam_list = CircularSatpamList()\n",
        "for i in range(4):\n",
        "  name = input(f\"Masukkan nama satpam ke-{i+1}: \")\n",
        "  satpam_list.add_node(name)\n",
        "\n",
        "satpam_list.schedule(14)\n"
      ],
      "metadata": {
        "id": "bzL7leoxASmc",
        "colab": {
          "base_uri": "https://localhost:8080/"
        },
        "outputId": "e9271b3c-7feb-4088-d187-45165917e1fa"
      },
      "execution_count": 20,
      "outputs": [
        {
          "output_type": "stream",
          "name": "stdout",
          "text": [
            "Masukkan nama satpam ke-1: Farrel Apriandy\n",
            "Masukkan nama satpam ke-2: Zurich Sabil\n",
            "Masukkan nama satpam ke-3: Nabila Firlina\n",
            "Masukkan nama satpam ke-4: Erlyn Nur\n",
            "\n",
            " Jadwal piket satpam selama 2 minggu: \n",
            "\n",
            "Hari 1: Farrel Apriandy\n",
            "Hari 2: Zurich Sabil\n",
            "Hari 3: Nabila Firlina\n",
            "Hari 4: Erlyn Nur\n",
            "Hari 5: Farrel Apriandy\n",
            "Hari 6: Zurich Sabil\n",
            "Hari 7: Nabila Firlina\n",
            "Hari 8: Erlyn Nur\n",
            "Hari 9: Farrel Apriandy\n",
            "Hari 10: Zurich Sabil\n",
            "Hari 11: Nabila Firlina\n",
            "Hari 12: Erlyn Nur\n",
            "Hari 13: Farrel Apriandy\n",
            "Hari 14: Zurich Sabil\n"
          ]
        }
      ]
    }
  ]
}