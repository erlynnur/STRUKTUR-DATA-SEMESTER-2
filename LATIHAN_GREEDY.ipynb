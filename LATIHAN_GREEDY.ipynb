{
  "nbformat": 4,
  "nbformat_minor": 0,
  "metadata": {
    "colab": {
      "provenance": [],
      "authorship_tag": "ABX9TyMruEwH/WljaG/beTyhaBYW",
      "include_colab_link": true
    },
    "kernelspec": {
      "name": "python3",
      "display_name": "Python 3"
    },
    "language_info": {
      "name": "python"
    }
  },
  "cells": [
    {
      "cell_type": "markdown",
      "metadata": {
        "id": "view-in-github",
        "colab_type": "text"
      },
      "source": [
        "<a href=\"https://colab.research.google.com/github/erlynnur/STRUKTUR-DATA-SEMESTER-2/blob/main/LATIHAN_GREEDY.ipynb\" target=\"_parent\"><img src=\"https://colab.research.google.com/assets/colab-badge.svg\" alt=\"Open In Colab\"/></a>"
      ]
    },
    {
      "cell_type": "code",
      "source": [
        "#nomor 1. Case 1: Coin Change\n",
        "def coin_change_greedy(amount, coins):\n",
        "    coins.sort(reverse=True)\n",
        "    result = []\n",
        "    for coin in coins:\n",
        "        while amount >= coin:\n",
        "            amount -= coin\n",
        "            result.append(coin)\n",
        "    return result\n",
        "amount = 57\n",
        "coins = [25, 10, 5, 1]\n",
        "change = coin_change_greedy(amount, coins)\n",
        "print(\"Koin yang digunakan:\", change)"
      ],
      "metadata": {
        "colab": {
          "base_uri": "https://localhost:8080/"
        },
        "id": "A9BNWR8j4s01",
        "outputId": "8b49c1ae-fd35-43bc-810a-7bb25b241910"
      },
      "execution_count": 2,
      "outputs": [
        {
          "output_type": "stream",
          "name": "stdout",
          "text": [
            "Koin yang digunakan: [25, 25, 5, 1, 1]\n"
          ]
        }
      ]
    },
    {
      "cell_type": "code",
      "source": [
        "#nomor 2\n",
        "def fractional_knapsack(items, capacity):\n",
        "    # items: list of (value, weight)\n",
        "    items = sorted(items, key=lambda x: x[0]/x[1], reverse=True)\n",
        "    total_value = 0.0\n",
        "    for value, weight in items:\n",
        "        if capacity == 0:\n",
        "            break\n",
        "        if weight <= capacity:\n",
        "            capacity -= weight\n",
        "            total_value += value\n",
        "        else:\n",
        "            total_value += value * (capacity / weight)\n",
        "            break\n",
        "    return total_value\n",
        "\n",
        "# Contoh penggunaan\n",
        "items = [(60, 10), (100, 20), (120, 30)]\n",
        "capacity = 50\n",
        "max_value = fractional_knapsack(items, capacity)\n",
        "print(\"Nilai maksimum yang bisa dibawa:\", max_value)"
      ],
      "metadata": {
        "colab": {
          "base_uri": "https://localhost:8080/"
        },
        "id": "h9pNJ9vl46MW",
        "outputId": "374932d5-fc87-4b63-feec-2cc3cbc3cbd6"
      },
      "execution_count": 3,
      "outputs": [
        {
          "output_type": "stream",
          "name": "stdout",
          "text": [
            "Nilai maksimum yang bisa dibawa: 240.0\n"
          ]
        }
      ]
    },
    {
      "cell_type": "code",
      "source": [
        "#nomor 3\n",
        "import heapq\n",
        "\n",
        "def prim_mst(graph, start):\n",
        "    visited = set()\n",
        "    min_heap = [(0, start)]\n",
        "    total_weight = 0\n",
        "    while min_heap:\n",
        "        weight, node = heapq.heappop(min_heap)\n",
        "        if node in visited:\n",
        "            continue\n",
        "        visited.add(node)\n",
        "        total_weight += weight\n",
        "        for neighbor, edge_weight in graph[node]:\n",
        "            if neighbor not in visited:\n",
        "                heapq.heappush(min_heap, (edge_weight, neighbor))\n",
        "    return total_weight\n",
        "\n",
        "# Contoh graf\n",
        "graph = {\n",
        "    'A': [('B', 2), ('C', 3)],\n",
        "    'B': [('A', 2), ('C', 1), ('D', 1)],\n",
        "    'C': [('A', 3), ('B', 1), ('D', 4)],\n",
        "    'D': [('B', 1), ('C', 4)]\n",
        "}\n",
        "print(\"Total bobot MST (Prim):\", prim_mst(graph, 'A'))"
      ],
      "metadata": {
        "colab": {
          "base_uri": "https://localhost:8080/"
        },
        "id": "4r8zAyBa5A_A",
        "outputId": "f5c8e8bf-07c5-4aa8-8dc4-0f98864e20e9"
      },
      "execution_count": 4,
      "outputs": [
        {
          "output_type": "stream",
          "name": "stdout",
          "text": [
            "Total bobot MST (Prim): 4\n"
          ]
        }
      ]
    },
    {
      "cell_type": "code",
      "source": [
        "#nomor 3 (Contoh Kode Program 2)\n",
        "def kruskal_mst(edges, n_nodes):\n",
        "    parent = {i: i for i in range(n_nodes)}\n",
        "\n",
        "    def find(x):\n",
        "        while parent[x] != x:\n",
        "            x = parent[x]\n",
        "        return x\n",
        "\n",
        "    def union(x, y):\n",
        "        root_x = find(x)\n",
        "        root_y = find(y)\n",
        "        if root_x != root_y:\n",
        "            parent[root_y] = root_x\n",
        "            return True\n",
        "        return False\n",
        "\n",
        "    edges.sort(key=lambda x: x[2])\n",
        "    total_weight = 0\n",
        "    for u, v, weight in edges:\n",
        "        if union(u, v):\n",
        "            total_weight += weight\n",
        "    return total_weight\n",
        "\n",
        "# Contoh edges (node diwakili dengan angka)\n",
        "edges = [(0, 1, 2), (0, 2, 3), (1, 2, 1), (1, 3, 1), (2, 3, 4)]\n",
        "print(\"Total bobot MST (Kruskal):\", kruskal_mst(edges, 4))"
      ],
      "metadata": {
        "colab": {
          "base_uri": "https://localhost:8080/"
        },
        "id": "iIbEp-0F5KxS",
        "outputId": "d5329d01-b3a1-4c8a-fd6c-6352a9f1f715"
      },
      "execution_count": 5,
      "outputs": [
        {
          "output_type": "stream",
          "name": "stdout",
          "text": [
            "Total bobot MST (Kruskal): 4\n"
          ]
        }
      ]
    },
    {
      "cell_type": "code",
      "source": [],
      "metadata": {
        "id": "BC_OdXFa5QZS"
      },
      "execution_count": null,
      "outputs": []
    }
  ]
}