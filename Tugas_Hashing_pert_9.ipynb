{
  "nbformat": 4,
  "nbformat_minor": 0,
  "metadata": {
    "colab": {
      "provenance": [],
      "authorship_tag": "ABX9TyOrOecZAc1UPXv9mT87Ylb0",
      "include_colab_link": true
    },
    "kernelspec": {
      "name": "python3",
      "display_name": "Python 3"
    },
    "language_info": {
      "name": "python"
    }
  },
  "cells": [
    {
      "cell_type": "markdown",
      "metadata": {
        "id": "view-in-github",
        "colab_type": "text"
      },
      "source": [
        "<a href=\"https://colab.research.google.com/github/erlynnur/STRUKTUR-DATA-SEMESTER-2/blob/main/Tugas_Hashing_pert_9.ipynb\" target=\"_parent\"><img src=\"https://colab.research.google.com/assets/colab-badge.svg\" alt=\"Open In Colab\"/></a>"
      ]
    },
    {
      "cell_type": "code",
      "execution_count": 1,
      "metadata": {
        "colab": {
          "base_uri": "https://localhost:8080/"
        },
        "id": "TguNp-Z_R02l",
        "outputId": "33d5b254-b0c9-451c-e750-d2ca022dd3d0"
      },
      "outputs": [
        {
          "output_type": "stream",
          "name": "stdout",
          "text": [
            "\n",
            "Menyisipkan data:\n",
            "'A': 10\n",
            "'B': 20\n",
            "'C': 30\n",
            "'D': 40\n",
            "'E': 50\n",
            "\n",
            "Isi tabel per indeks:\n",
            "Indeks 0: ('E', 50)\n",
            "Indeks 1: ('A', 10)\n",
            "Indeks 2: ('C', 30)\n",
            "Indeks 3: ('B', 20)\n",
            "Indeks 4: ('D', 40)\n"
          ]
        }
      ],
      "source": [
        "# nomor 1\n",
        "class LinearProbingHashTable:\n",
        "    def __init__(self, size):\n",
        "        self.size = size\n",
        "        self.table = [None] * size\n",
        "\n",
        "    def _hash(self, key):\n",
        "        return hash(key) % self.size\n",
        "\n",
        "    def insert(self, key, value):\n",
        "        index = self._hash(key)\n",
        "        original_index = index\n",
        "\n",
        "        # Linear probing untuk mencari slot kosong\n",
        "        while self.table[index] is not None:\n",
        "            # Jika key sudah ada, update valuenya\n",
        "            if self.table[index][0] == key:\n",
        "                self.table[index] = (key, value)\n",
        "                return\n",
        "\n",
        "            # Pindah ke slot berikutnya\n",
        "            index = (index + 1) % self.size\n",
        "\n",
        "            # Jika sudah kembali ke posisi awal, tabel penuh\n",
        "            if index == original_index:\n",
        "                print(f\"Tabel penuh! Tidak bisa memasukkan {key}\")\n",
        "                return\n",
        "\n",
        "        # Masukkan data ke slot kosong\n",
        "        self.table[index] = (key, value)\n",
        "\n",
        "    def search(self, key):\n",
        "        index = self._hash(key)\n",
        "        original_index = index\n",
        "\n",
        "        while self.table[index] is not None:\n",
        "            if self.table[index][0] == key:\n",
        "                return self.table[index][1]\n",
        "\n",
        "            index = (index + 1) % self.size\n",
        "\n",
        "            if index == original_index:\n",
        "                break\n",
        "\n",
        "        return None\n",
        "\n",
        "# a. Buat objek dengan ukuran tabel 5\n",
        "ht = LinearProbingHashTable(5)\n",
        "\n",
        "# b. Masukkan pasangan key-value yang diminta\n",
        "data = {\n",
        "    \"A\": 10,\n",
        "    \"B\": 20,\n",
        "    \"C\": 30,\n",
        "    \"D\": 40,\n",
        "    \"E\": 50\n",
        "}\n",
        "print(\"\\nMenyisipkan data:\")\n",
        "for key, value in data.items():\n",
        "    ht.insert(key, value)\n",
        "    print(f\"'{key}': {value}\")\n",
        "\n",
        "print(f\"\\nIsi tabel per indeks:\")\n",
        "for i, item in enumerate(ht.table):\n",
        "    print(f\"Indeks {i}: {item}\")"
      ]
    },
    {
      "cell_type": "code",
      "source": [
        "#nomor 2\n",
        "class ChainingHashTable:\n",
        "    def __init__(self, size):\n",
        "        self.size = size\n",
        "        self.table = [[] for _ in range(size)]\n",
        "\n",
        "    def _hash(self, key):\n",
        "        return hash(key) % self.size\n",
        "\n",
        "    def insert(self, key, value):\n",
        "        index = self._hash(key)\n",
        "        for i, (existing_key, _) in enumerate(self.table[index]):\n",
        "            if existing_key == key:\n",
        "                self.table[index][i] = (key, value)\n",
        "                return\n",
        "        self.table[index].append((key, value))\n",
        "\n",
        "    def search(self, key):\n",
        "        index = self._hash(key)\n",
        "        for existing_key, value in self.table[index]:\n",
        "            if existing_key == key:\n",
        "                return value\n",
        "        return None\n",
        "\n",
        "# a. Gunakan ukuran tabel 3\n",
        "ht = ChainingHashTable(3)\n",
        "\n",
        "# b. Masukkan key-value yang diminta\n",
        "data = {\n",
        "    \"apel\": 100,\n",
        "    \"melon\": 200,\n",
        "    \"lemon\": 300,\n",
        "    \"pisang\": 400\n",
        "}\n",
        "\n",
        "print(\"\\nMenyisipkan data:\")\n",
        "for key, value in data.items():\n",
        "    ht.insert(key, value)\n",
        "    print(f\"'{key}': {value}\")\n",
        "\n",
        "# c. Cetak isi tabel (self.table) dan tampilkan data di setiap slot\n",
        "print(\"\\nIsi tabel (self.table):\")\n",
        "print(ht.table)\n",
        "\n",
        "print(\"\\nData yang disimpan di setiap slot:\")\n",
        "for i, slot in enumerate(ht.table):\n",
        "    print(f\"Slot {i}: {slot}\")\n"
      ],
      "metadata": {
        "colab": {
          "base_uri": "https://localhost:8080/"
        },
        "id": "Ib0n0xJxUddY",
        "outputId": "57a68e64-df12-4270-907e-89f97114eea7"
      },
      "execution_count": 3,
      "outputs": [
        {
          "output_type": "stream",
          "name": "stdout",
          "text": [
            "\n",
            "Menyisipkan data:\n",
            "'apel': 100\n",
            "'melon': 200\n",
            "'lemon': 300\n",
            "'pisang': 400\n",
            "\n",
            "Isi tabel (self.table):\n",
            "[[('melon', 200)], [('apel', 100), ('lemon', 300)], [('pisang', 400)]]\n",
            "\n",
            "Data yang disimpan di setiap slot:\n",
            "Slot 0: [('melon', 200)]\n",
            "Slot 1: [('apel', 100), ('lemon', 300)]\n",
            "Slot 2: [('pisang', 400)]\n"
          ]
        }
      ]
    },
    {
      "cell_type": "code",
      "source": [
        "\n"
      ],
      "metadata": {
        "id": "tfmDk0aqUlOv"
      },
      "execution_count": 4,
      "outputs": []
    },
    {
      "cell_type": "code",
      "source": [],
      "metadata": {
        "id": "SszEj6Uxfn9A"
      },
      "execution_count": null,
      "outputs": []
    }
  ]
}