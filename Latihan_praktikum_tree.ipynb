{
  "nbformat": 4,
  "nbformat_minor": 0,
  "metadata": {
    "colab": {
      "provenance": [],
      "authorship_tag": "ABX9TyOX472zpVJ+zvxExfycizzZ",
      "include_colab_link": true
    },
    "kernelspec": {
      "name": "python3",
      "display_name": "Python 3"
    },
    "language_info": {
      "name": "python"
    }
  },
  "cells": [
    {
      "cell_type": "markdown",
      "metadata": {
        "id": "view-in-github",
        "colab_type": "text"
      },
      "source": [
        "<a href=\"https://colab.research.google.com/github/erlynnur/STRUKTUR-DATA-SEMESTER-2/blob/main/Latihan_praktikum_tree.ipynb\" target=\"_parent\"><img src=\"https://colab.research.google.com/assets/colab-badge.svg\" alt=\"Open In Colab\"/></a>"
      ]
    },
    {
      "cell_type": "code",
      "execution_count": null,
      "metadata": {
        "colab": {
          "base_uri": "https://localhost:8080/"
        },
        "id": "Wr3S5rliLhmU",
        "outputId": "d51815a4-0f35-4c19-e0e5-67113e01aee2"
      },
      "outputs": [
        {
          "output_type": "stream",
          "name": "stdout",
          "text": [
            "Hasil inorder traversal dari binary tree:\n",
            "42513"
          ]
        }
      ],
      "source": [
        "#Latihan 1 praktikum\n",
        "class Node:\n",
        "  def __init__(self,data):\n",
        "    self.data = data\n",
        "    self.left = None\n",
        "    self.right = None\n",
        "# Membuat tree secara manual\n",
        "root = Node(1)\n",
        "root.left = Node(2)\n",
        "root.right = Node(3)\n",
        "root.left.left = Node(4)\n",
        "root.left.right = Node(5)\n",
        "# Fungsi inorder traversal\n",
        "def inorder(node):\n",
        "  if node:\n",
        "    inorder(node.left)\n",
        "    print(node.data, end='')\n",
        "    inorder(node.right)\n",
        "print(\"Hasil inorder traversal dari binary tree:\")\n",
        "inorder(root)"
      ]
    },
    {
      "cell_type": "code",
      "source": [
        "\n",
        "#Latihan 2 praktikum\n",
        "class Node:\n",
        "  def __init__(self, data):\n",
        "      self.data = data\n",
        "      self.left = None\n",
        "      self.right = None\n",
        "\n",
        "class BinarySearchTree:\n",
        "  def __init__(self):\n",
        "      self.root = None\n",
        "  def insert(self, root, data):\n",
        "      if root is None:\n",
        "        return Node(data)\n",
        "      if data < root.data:\n",
        "        root.left = self.insert(root.left, data)\n",
        "      else:\n",
        "        root.right = self.insert(root.right, data)\n",
        "      return root\n",
        "bst = BinarySearchTree()\n",
        "root = None\n",
        "data_list = [50, 30, 70, 20, 40, 60, 80]\n",
        "for value in data_list:\n",
        "  root = bst.insert(root, value)\n"
      ],
      "metadata": {
        "id": "0zhEr1SnMU50"
      },
      "execution_count": null,
      "outputs": []
    },
    {
      "cell_type": "code",
      "source": [
        "#latihan 3 praktikum\n",
        "def inorder(node):\n",
        "  if node:\n",
        "    inorder(node.left)\n",
        "    print(node.data, end=' ')\n",
        "    inorder(node.right)\n",
        "def preorder(node):\n",
        "  if node:\n",
        "    print(node.data, end=' ')\n",
        "    preorder(node.left)\n",
        "    preorder(node.right)\n",
        "def postorder(node):\n",
        "  if node:\n",
        "    postorder(node.left)\n",
        "    postorder(node.right)\n",
        "    print(node.data, end=' ')\n",
        "print(\"inorder traversal:\")\n",
        "inorder(root)\n",
        "print(\"\\npreorder traversal:\")\n",
        "preorder(root)\n",
        "print(\"\\npostorder traversal:\")\n",
        "postorder(root)"
      ],
      "metadata": {
        "colab": {
          "base_uri": "https://localhost:8080/"
        },
        "id": "XeO69XwkVLQA",
        "outputId": "f7e53d72-5ad0-4190-cbf1-69fae81ba591"
      },
      "execution_count": null,
      "outputs": [
        {
          "output_type": "stream",
          "name": "stdout",
          "text": [
            "inorder traversal:\n",
            "20 30 40 50 60 70 80 \n",
            "preorder traversal:\n",
            "50 30 20 40 70 60 80 \n",
            "postorder traversal:\n",
            "20 40 30 60 80 70 50 "
          ]
        }
      ]
    },
    {
      "cell_type": "code",
      "source": [
        "#latihan 4 praktikum\n",
        "def serch(node, key):\n",
        "  if node is None or node.data == key:\n",
        "    return node\n",
        "  if key < node.data:\n",
        "    return serch(node.left, key)\n",
        "  return serch(node.right, key)\n",
        "\n",
        "#uji pencarian\n",
        "key= 60\n",
        "result = serch(root, key)\n",
        "if result:\n",
        "  print(f\"{key} ditemukan dalam tree.\")\n",
        "else:\n",
        "  print(f\"{key} tidak ditemukan\")\n",
        "key = 25\n",
        "result = serch(root, key)\n",
        "if result:\n",
        "  print(f\"{key} ditemukan dalam tree.\")\n",
        "else:\n",
        "  print(f\"{key} tidak ditemukan\")"
      ],
      "metadata": {
        "colab": {
          "base_uri": "https://localhost:8080/"
        },
        "id": "zeMEoSG4VR6_",
        "outputId": "f2133dbb-61e9-4747-dfff-d3e03e34f499"
      },
      "execution_count": null,
      "outputs": [
        {
          "output_type": "stream",
          "name": "stdout",
          "text": [
            "60 ditemukan dalam tree.\n",
            "25 tidak ditemukan\n"
          ]
        }
      ]
    },
    {
      "cell_type": "code",
      "source": [],
      "metadata": {
        "id": "kSl2URtvXWyl"
      },
      "execution_count": null,
      "outputs": []
    }
  ]
}