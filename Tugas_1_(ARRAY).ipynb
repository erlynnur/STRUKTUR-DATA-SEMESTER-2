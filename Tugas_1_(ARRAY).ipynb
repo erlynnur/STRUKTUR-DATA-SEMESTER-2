{
  "nbformat": 4,
  "nbformat_minor": 0,
  "metadata": {
    "colab": {
      "provenance": []
    },
    "kernelspec": {
      "name": "python3",
      "display_name": "Python 3"
    },
    "language_info": {
      "name": "python"
    }
  },
  "cells": [
    {
      "cell_type": "code",
      "source": [
        "#INI Implementasi pada permainan sederhana\n",
        "# Ukuran peta\n",
        "size = 10\n",
        "\n",
        "# Membuat peta dengan harta karun tersembunyi\n",
        "treasure_map = [\"_\" for _ in range(size)]\n",
        "\n",
        "# Tentukan lokasi harta karun secara manual\n",
        "print(f\"Selamat datang di Treasure Hunt! Peta memiliki {size} lokasi (0 hingga {size-1}).\")\n",
        "treasure_index = int(input(f\"Masukkan lokasi harta karun(0-{size-1}):\"))\n",
        "while treasure_index < 0 or treasure_index >= size:\n",
        "    print(\"Lokasi tidak valid. Masukkan angak dalam rentang yang benar.\")\n",
        "    treasure_index = int(input(f\"Masukkan lokasi harta karun (0-{size-1}):\"))\n",
        "treasure_map[treasure_index] = \"X\" # Menyembunyikan harta karun di lokasi yang dipilih\n",
        "\n",
        "# Fungsi untuk memulai permainan\n",
        "def play_treasure_hunt():\n",
        "    print(\"\\nHarta karun telah di sembunyikan! Sekarang giliran pemain menembak.\")\n",
        "    print(\"Cobalah untuk menemukan harta karun dengan menembak indeks yang benar.\")\n",
        "\n",
        "    # Loop permainan\n",
        "    while  True:\n",
        "        # Menampilakan peta tersembunyi kepada pemain\n",
        "        print(\"\\nPeta saat ini: \", [\"_\" for _ in range(size)]) # Peta tersembunyi\n",
        "\n",
        "        # Input pemain\n",
        "        try:\n",
        "            guess = int(input(f\"Masukkan indeks tembakanmu (0-{size-1}):\"))\n",
        "        except ValueError:\n",
        "            print(\"Masukkan angka yang valid!\")\n",
        "            continue\n",
        "        # Validasi input\n",
        "        if guess < 0 or guess >= size:\n",
        "            print(\"Indeks tidak valid, pilih atar 0 hingga\", size-1)\n",
        "            continue\n",
        "\n",
        "        # Mengecek apakah tebakan benar\n",
        "        if treasure_map[guess] == \"X\":\n",
        "            print(\"Selamat! kamu menemukan harta karun di lokasi:\", guess)\n",
        "            break\n",
        "        else:\n",
        "            print(\" Tidak ada harta di lokasi ini. Coba lagi!\")\n",
        "\n",
        "    print(\"Terima kasih sudah bermain !\")\n",
        "\n",
        "# Jalankan permainan\n",
        "play_treasure_hunt()"
      ],
      "metadata": {
        "colab": {
          "base_uri": "https://localhost:8080/"
        },
        "id": "GxUN6x8cvRhF",
        "outputId": "99de9753-2dd2-48a8-e717-b6367c895500"
      },
      "execution_count": 2,
      "outputs": [
        {
          "output_type": "stream",
          "name": "stdout",
          "text": [
            "Selamat datang di Treasure Hunt! Peta memiliki 10 lokasi (0 hingga 9).\n",
            "Masukkan lokasi harta karun(0-9):8\n",
            "\n",
            "Harta karun telah di sembunyikan! Sekarang giliran pemain menembak.\n",
            "Cobalah untuk menemukan harta karun dengan menembak indeks yang benar.\n",
            "\n",
            "Peta saat ini:  ['_', '_', '_', '_', '_', '_', '_', '_', '_', '_']\n",
            "Masukkan indeks tembakanmu (0-9):7\n",
            " Tidak ada harta di lokasi ini. Coba lagi!\n",
            "\n",
            "Peta saat ini:  ['_', '_', '_', '_', '_', '_', '_', '_', '_', '_']\n",
            "Masukkan indeks tembakanmu (0-9):7\n",
            " Tidak ada harta di lokasi ini. Coba lagi!\n",
            "\n",
            "Peta saat ini:  ['_', '_', '_', '_', '_', '_', '_', '_', '_', '_']\n",
            "Masukkan indeks tembakanmu (0-9):9\n",
            " Tidak ada harta di lokasi ini. Coba lagi!\n",
            "\n",
            "Peta saat ini:  ['_', '_', '_', '_', '_', '_', '_', '_', '_', '_']\n",
            "Masukkan indeks tembakanmu (0-9):8\n",
            "Selamat! kamu menemukan harta karun di lokasi: 8\n",
            "Terima kasih sudah bermain !\n"
          ]
        }
      ]
    },
    {
      "cell_type": "code",
      "execution_count": 3,
      "metadata": {
        "colab": {
          "base_uri": "https://localhost:8080/"
        },
        "id": "uYcsvLuwu1iE",
        "outputId": "324fe987-c567-4251-8495-39a105a1e34c"
      },
      "outputs": [
        {
          "output_type": "stream",
          "name": "stdout",
          "text": [
            "ayo kamu masukin ukuran peta: 20\n",
            "Welcome to Treasure Hunt! Peta memiliki 20 lokasi (0 hingga 19).\n",
            "ayo kamu masukin lokasi harta karun (0 hingga 19): 1\n",
            "\n",
            "Nah harta karuh dah disembunyiin nih, coba dong tebak.\n",
            "Coba cari harta karun yang bener ya.\n",
            "\n",
            "Peta saat ini: ['_', '_', '_', '_', '_', '_', '_', '_', '_', '_', '_', '_', '_', '_', '_', '_', '_', '_', '_', '_']\n",
            "Coba masukin tebakanmu (0 hingga 19): 5\n",
            "Hadeuh salah nih tebakannya, coba lagi donk!\n",
            "\n",
            "Peta saat ini: ['_', '_', '_', '_', '_', '_', '_', '_', '_', '_', '_', '_', '_', '_', '_', '_', '_', '_', '_', '_']\n",
            "Coba masukin tebakanmu (0 hingga 19): 7\n",
            "Hadeuh salah nih tebakannya, coba lagi donk!\n",
            "\n",
            "Peta saat ini: ['_', '_', '_', '_', '_', '_', '_', '_', '_', '_', '_', '_', '_', '_', '_', '_', '_', '_', '_', '_']\n",
            "Coba masukin tebakanmu (0 hingga 19): 0\n",
            "Hadeuh salah nih tebakannya, coba lagi donk!\n",
            "\n",
            "Peta saat ini: ['_', '_', '_', '_', '_', '_', '_', '_', '_', '_', '_', '_', '_', '_', '_', '_', '_', '_', '_', '_']\n",
            "Coba masukin tebakanmu (0 hingga 19): 1\n",
            "Widih bener nebaknya keren ih!\n",
            "tengs dah main guys!\n"
          ]
        }
      ],
      "source": [
        "#ini TUGAS yang A\n",
        "# menginput ukuran peta\n",
        "Size = int(input(\"ayo kamu masukin ukuran peta: \"))\n",
        "\n",
        "# Membuat peta dengan harta karun tersembunyi\n",
        "treasure_map = [\"_\" for _ in range(Size)]\n",
        "\n",
        "# Tentukan lokasi harta karun secara manual.\n",
        "print(f\"Welcome to Treasure Hunt! Peta memiliki {Size} lokasi (0 hingga {Size-1}).\")\n",
        "treasure_index = int(input(f\"ayo kamu masukin lokasi harta karun (0 hingga {Size-1}): \"))\n",
        "# ini adalah loop yang akan terus meminta pemain untuk memasukkan lokasi harta karun hingga mereka memasukkan angka yang valid.\n",
        "while treasure_index < 0 or treasure_index >= Size:\n",
        "    print(\"masukin angka yang bener ya!\")\n",
        "    treasure_index = int(input(f\"ayo kamu masukin lokasi harta karun (0 hingga {Size-1}): \"))\n",
        "\n",
        "# Menyembunyikan harta karun di lokasi yang dipilih\n",
        "treasure_map[treasure_index] = \"x\"\n",
        "\n",
        "# Fungsi untuk memulai permainan\n",
        "def play_treasure_hunt():\n",
        "    print(\"\\nNah harta karuh dah disembunyiin nih, coba dong tebak.\")\n",
        "    print(\"Coba cari harta karun yang bener ya.\")\n",
        "\n",
        "    # Loop permainan\n",
        "    while True:\n",
        "        # nampilin peta tersembunyi kepada pemain (tanpa lokasi harta karun itu)\n",
        "        print(\"\\nPeta saat ini:\", [\"_\" for _ in range(Size)])\n",
        "\n",
        "        # Input pemain\n",
        "        try:\n",
        "            guess = int(input(f\"Coba masukin tebakanmu (0 hingga {Size-1}): \"))\n",
        "        #ini misal eror nanti dikasih peringatan gitu\n",
        "        except ValueError:\n",
        "            print(\"masukin angka tuh yang bener!\")\n",
        "            continue\n",
        "\n",
        "        # ini buat memastikan lagi valid gak-nya\n",
        "        if guess < 0 or guess >= Size:\n",
        "            print(\"ih angka gak valid, pilih antara 0 hingga\", Size-1)\n",
        "            continue\n",
        "\n",
        "        # mengecek apakan yang diinputkan pemain benar atau tidaknya\n",
        "        if treasure_map[guess] == \"x\":\n",
        "            print(\"Widih bener nebaknya keren ih!\")\n",
        "            break\n",
        "        else:\n",
        "            print(\"Hadeuh salah nih tebakannya, coba lagi donk!\")\n",
        "\n",
        "    print(\"tengs dah main guys!\")\n",
        "\n",
        "# Memulai permainan\n",
        "play_treasure_hunt()"
      ]
    },
    {
      "cell_type": "code",
      "source": [
        "#INI TUGAS YANG B\n",
        "# mengimport modul random menggunakan fungsi randint() yang digunakan untuk memilih lokasi harta karun secara acak.\n",
        "import random\n",
        "\n",
        "# menginput ukuran peta\n",
        "Size = int(input(\"ayo kamu masukin ukuran peta: \"))\n",
        "\n",
        "# Membuat peta dengan harta karun tersembunyi\n",
        "treasure_map = [\"_\" for _ in range(Size)]\n",
        "\n",
        "# Mentukan lokasi harta karun secara otomatis\n",
        "print(f\"Welcome to Treasure Hunt! Peta memiliki {Size} lokasi (0 hingga {Size-1}).\")\n",
        "treasure_index = random.randint(0, Size)\n",
        "\n",
        "# Menyembunyikan harta karun di lokasi yang dipilih\n",
        "treasure_map[treasure_index] = \"x\"\n",
        "\n",
        "# Fungsi untuk memulai permainan\n",
        "def play_treasure_hunt():\n",
        "    print(\"\\nNah harta karuh dah disembunyiin nih, coba dong tebak.\")\n",
        "    print(\"Coba cari harta karun yang bener ya.\")\n",
        "\n",
        "    # Loop permainan\n",
        "    while True:\n",
        "        # nampilin peta tersembunyi kepada pemain (tanpa lokasi harta karun itu)\n",
        "        print(\"\\nPeta saat ini:\", [\"_\" for _ in range(Size)])\n",
        "\n",
        "        # Input pemain\n",
        "        try:\n",
        "            guess = int(input(f\"Coba masukin tebakanmu (0 hingga {Size-1}): \"))\n",
        "        #ini misal eror nanti dikasih peringatan gitu\n",
        "        except ValueError:\n",
        "            print(\"masukin angka tuh yang bener!\")\n",
        "            continue\n",
        "\n",
        "        # ini buat memastikan lagi valid gak-nya\n",
        "        if guess < 0 or guess >= Size:\n",
        "            print(\"ih angka gak valid, pilih antara 0 hingga\", Size-1)\n",
        "            continue\n",
        "\n",
        "        # mengecek apakan yang diinputkan pemain benar atau tidaknya\n",
        "        if treasure_map[guess] == \"x\":\n",
        "            print(\"Widih bener nebaknya keren ih!\")\n",
        "            break\n",
        "        else:\n",
        "            print(\"Hadeuh salah nih tebakannya, coba lagi donk!\")\n",
        "\n",
        "    print(\"tengs dah main guys!\")\n",
        "\n",
        "# Memulai permainan\n",
        "play_treasure_hunt()"
      ],
      "metadata": {
        "colab": {
          "base_uri": "https://localhost:8080/"
        },
        "id": "frnaq45Gu8Dy",
        "outputId": "f9be290d-e839-49ba-e3c6-63c26b89d64b"
      },
      "execution_count": 7,
      "outputs": [
        {
          "output_type": "stream",
          "name": "stdout",
          "text": [
            "ayo kamu masukin ukuran peta: 3\n",
            "Welcome to Treasure Hunt! Peta memiliki 3 lokasi (0 hingga 2).\n",
            "\n",
            "Nah harta karuh dah disembunyiin nih, coba dong tebak.\n",
            "Coba cari harta karun yang bener ya.\n",
            "\n",
            "Peta saat ini: ['_', '_', '_']\n",
            "Coba masukin tebakanmu (0 hingga 2): 1\n",
            "Hadeuh salah nih tebakannya, coba lagi donk!\n",
            "\n",
            "Peta saat ini: ['_', '_', '_']\n",
            "Coba masukin tebakanmu (0 hingga 2): 2\n",
            "Widih bener nebaknya keren ih!\n",
            "tengs dah main guys!\n"
          ]
        }
      ]
    },
    {
      "cell_type": "code",
      "source": [
        "3\n"
      ],
      "metadata": {
        "id": "CqBbJ9YgwyaC"
      },
      "execution_count": null,
      "outputs": []
    }
  ]
}