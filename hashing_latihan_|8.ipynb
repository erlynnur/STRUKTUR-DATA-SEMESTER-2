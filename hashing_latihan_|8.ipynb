{
  "nbformat": 4,
  "nbformat_minor": 0,
  "metadata": {
    "colab": {
      "provenance": [],
      "authorship_tag": "ABX9TyNEjlNQK053wQZ348iNw5g6",
      "include_colab_link": true
    },
    "kernelspec": {
      "name": "python3",
      "display_name": "Python 3"
    },
    "language_info": {
      "name": "python"
    }
  },
  "cells": [
    {
      "cell_type": "markdown",
      "metadata": {
        "id": "view-in-github",
        "colab_type": "text"
      },
      "source": [
        "<a href=\"https://colab.research.google.com/github/erlynnur/STRUKTUR-DATA-SEMESTER-2/blob/main/hashing_latihan_%7C8.ipynb\" target=\"_parent\"><img src=\"https://colab.research.google.com/assets/colab-badge.svg\" alt=\"Open In Colab\"/></a>"
      ]
    },
    {
      "cell_type": "code",
      "execution_count": null,
      "metadata": {
        "colab": {
          "base_uri": "https://localhost:8080/"
        },
        "id": "cS2ek6OvWT_z",
        "outputId": "5fd50809-0972-4403-eaf0-00256cfa813d"
      },
      "outputs": [
        {
          "output_type": "stream",
          "name": "stdout",
          "text": [
            "nilai untuk 'apple': 100\n",
            "nilai untuk 'banana': 200\n"
          ]
        }
      ],
      "source": [
        "class SimpleHashTable:\n",
        "    def __init__(self, size):\n",
        "        self.size = size\n",
        "        self.table = [None]*size\n",
        "    def has_function(self, key):\n",
        "        return hash(key) % self.size\n",
        "    def insert(self, key, value):\n",
        "        index = self.has_function(key)\n",
        "        self.table[index] = value\n",
        "    def search(self, key):\n",
        "        index = self.has_function(key)\n",
        "        return self.table[index]\n",
        "ht = SimpleHashTable(10)\n",
        "ht.insert(\"apple\", 100)\n",
        "ht.insert(\"banana\", 200)\n",
        "print(\"nilai untuk 'apple':\", ht.search(\"apple\"))\n",
        "print(\"nilai untuk 'banana':\", ht.search(\"banana\"))\n"
      ]
    },
    {
      "cell_type": "code",
      "source": [
        "class LinearProbingHashTable:\n",
        "    def __init__(self, size):\n",
        "        self.size = size\n",
        "        self.table = [None]*size\n",
        "    def has_function(self, key):\n",
        "        return hash(key) % self.size\n",
        "    def insert(self, key, value):\n",
        "        index = self.has_function(key)\n",
        "        original_index = index\n",
        "        while self.table[index]is not None:\n",
        "            if self.table[index][0] == key:\n",
        "              break\n",
        "            index = (index + 1) % self.size\n",
        "            if index == original_index:\n",
        "              raise Exception(\"Hash tabel penuh\")\n",
        "        self.table[index] = (key, value)\n",
        "    def search(self, key):\n",
        "        index = self.has_function(key)\n",
        "        original_index = index\n",
        "        while self.table[index]is not None:\n",
        "            if self.table[index][0] == key:\n",
        "              return self.table[index][1]\n",
        "            index = (index + 1) % self.size\n",
        "            if index == original_index:\n",
        "                break\n",
        "        return None\n",
        "\n",
        "ht = LinearProbingHashTable(5)\n",
        "ht.insert(\"apple\", 100)\n",
        "ht.insert(\"banana\", 200)\n",
        "ht.insert(\"melon\", 300)\n",
        "print(\"nilai untuk 'apple':\", ht.search(\"apple\"))\n",
        "print(\"nilai untuk 'melon':\", ht.search(\"melon\"))\n",
        "\n",
        "\n"
      ],
      "metadata": {
        "colab": {
          "base_uri": "https://localhost:8080/"
        },
        "id": "Pa6breD3YLQu",
        "outputId": "aa4105a0-e366-43b8-dbba-c448516108ed"
      },
      "execution_count": null,
      "outputs": [
        {
          "output_type": "stream",
          "name": "stdout",
          "text": [
            "nilai untuk 'apple': 100\n",
            "nilai untuk 'melon': 300\n"
          ]
        }
      ]
    },
    {
      "cell_type": "code",
      "source": [
        "class ChainingHashTable:\n",
        "    def __init__(self, size):\n",
        "        self.size = size\n",
        "        self.table = [[] for _ in range(size)]\n",
        "    def has_function(self, key):\n",
        "        return hash(key) % self.size\n",
        "    def insert(self, key, value):\n",
        "        index = self.has_function(key)\n",
        "        for i, (k, v) in enumerate(self.table[index]):\n",
        "            if k == key:\n",
        "                self.table[index][i] = (key, value)\n",
        "                return\n",
        "        self.table[index].append((key, value))\n",
        "    def search(self, key):\n",
        "        index = self.has_function(key)\n",
        "        for k, v in self.table[index]:\n",
        "            if k == key:\n",
        "                return v\n",
        "        return None\n",
        "ht = ChainingHashTable(5)\n",
        "ht.insert(\"apple\", 100)\n",
        "ht.insert(\"banana\", 200)\n",
        "ht.insert(\"melon\", 300)\n",
        "print(\"nilai untuk 'apple':\", ht.search(\"apple\"))\n",
        "print(\"nilai untuk 'melon':\", ht.search(\"melon\"))"
      ],
      "metadata": {
        "colab": {
          "base_uri": "https://localhost:8080/"
        },
        "id": "JVtVWeVrbJuG",
        "outputId": "b1318cb6-6450-4ca2-ba79-1f148f7a3ffb"
      },
      "execution_count": null,
      "outputs": [
        {
          "output_type": "stream",
          "name": "stdout",
          "text": [
            "nilai untuk 'apple': 100\n",
            "nilai untuk 'melon': 300\n"
          ]
        }
      ]
    },
    {
      "cell_type": "code",
      "source": [],
      "metadata": {
        "id": "mvuQ5WLWcgtC"
      },
      "execution_count": null,
      "outputs": []
    }
  ]
}