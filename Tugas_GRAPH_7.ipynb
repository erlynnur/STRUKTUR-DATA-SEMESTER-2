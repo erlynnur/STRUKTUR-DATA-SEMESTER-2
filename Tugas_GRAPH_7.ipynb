{
  "nbformat": 4,
  "nbformat_minor": 0,
  "metadata": {
    "colab": {
      "provenance": [],
      "authorship_tag": "ABX9TyM51miLOtwydNAd2H7zuIDM",
      "include_colab_link": true
    },
    "kernelspec": {
      "name": "python3",
      "display_name": "Python 3"
    },
    "language_info": {
      "name": "python"
    }
  },
  "cells": [
    {
      "cell_type": "markdown",
      "metadata": {
        "id": "view-in-github",
        "colab_type": "text"
      },
      "source": [
        "<a href=\"https://colab.research.google.com/github/erlynnur/STRUKTUR-DATA-SEMESTER-2/blob/main/Tugas_GRAPH_7.ipynb\" target=\"_parent\"><img src=\"https://colab.research.google.com/assets/colab-badge.svg\" alt=\"Open In Colab\"/></a>"
      ]
    },
    {
      "cell_type": "code",
      "execution_count": null,
      "metadata": {
        "colab": {
          "base_uri": "https://localhost:8080/"
        },
        "id": "MgZF2xKAbbcF",
        "outputId": "99055a88-b6ad-442f-bf89-bb85b3982ffc"
      },
      "outputs": [
        {
          "output_type": "stream",
          "name": "stdout",
          "text": [
            "A -> ['B', 'C', 'E']\n",
            "B -> ['A', 'C']\n",
            "C -> ['A', 'B', 'D']\n",
            "D -> ['C', 'F']\n",
            "E -> ['A', 'F']\n",
            "F -> ['D', 'E']\n"
          ]
        }
      ],
      "source": [
        "# nomor 1 : Membuat graf tak berarah baru dengan minimal 5 simpul dan 7 sisi\n",
        "graph = {\n",
        "    'A': ['B', 'C', 'E'],  # 3 sisi dari simpul A\n",
        "    'B': ['A', 'C'],       # 2 sisi dari simpul B (tetapi simpul A-B sudah dihitung)\n",
        "    'C': ['A', 'B', 'D'],  # 3 sisi dari simpul C (tetapi simpul A-C dan B-C sudah dihitung)\n",
        "    'D': ['C', 'F'],       # 2 sisi dari simpul D (tetapi simpul C-D sudah dihitung)\n",
        "    'E': ['A', 'F'],       # 2 sisi dari simpul E (tetapi simpul A-E sudah dihitung)\n",
        "    'F': ['D', 'E']        # 2 sisi dari simpul F (tetapi simpul D-F dan E-F sudah dihitung)\n",
        "}\n",
        "\n",
        "# Menampilkan graf\n",
        "def print_graph(graf):\n",
        "    for node in graf:\n",
        "        print(f\"{node} -> {graf[node]}\")\n",
        "\n",
        "print_graph(graph)"
      ]
    },
    {
      "cell_type": "code",
      "source": [
        "#nomor 2\n",
        "from collections import deque\n",
        "graph = {\n",
        "    'A': ['B', 'C', 'E'],  # 3 sisi dari simpul A\n",
        "    'B': ['A', 'C'],       # 2 sisi dari simpul B (tetapi simpul A-B sudah dihitung)\n",
        "    'C': ['A', 'B', 'D'],  # 3 sisi dari simpul C (tetapi simpul A-C dan B-C sudah dihitung)\n",
        "    'D': ['C', 'F'],       # 2 sisi dari simpul D (tetapi simpul C-D sudah dihitung)\n",
        "    'E': ['A', 'F'],       # 2 sisi dari simpul E (tetapi simpul A-E sudah dihitung)\n",
        "    'F': ['D', 'E']        # 2 sisi dari simpul F (tetapi simpul D-F dan E-F sudah dihitung)\n",
        "}\n",
        "def bfs(graph, start):\n",
        "    visited = set()\n",
        "    queue = deque([start])\n",
        "\n",
        "    while queue:\n",
        "        node = queue.popleft()\n",
        "        if node not in visited:\n",
        "            print(node, end=' ')\n",
        "            visited.add(node)\n",
        "            queue.extend(neighbor for neighbor in graph[node] if neighbor not in visited)\n",
        "\n",
        "def dfs(graph, start, visited=None):\n",
        "    if visited is None:\n",
        "        visited = set()\n",
        "    if start not in visited:\n",
        "        print(start, end=' ')\n",
        "        visited.add(start)\n",
        "        for neighbor in graph[start]:\n",
        "            dfs(graph, neighbor, visited)\n",
        "\n",
        "# Menjalankan BFS dari simpul 'A'\n",
        "print(\"BFS dari simpul 'A':\")\n",
        "bfs(graph, 'A')\n",
        "\n",
        "print(\"\\nDFS dari simpul 'A':\")\n",
        "dfs(graph, 'A')"
      ],
      "metadata": {
        "colab": {
          "base_uri": "https://localhost:8080/"
        },
        "id": "SKeaaa9ibxNJ",
        "outputId": "64750c8f-5f33-454a-c953-1a2f93e941d6"
      },
      "execution_count": null,
      "outputs": [
        {
          "output_type": "stream",
          "name": "stdout",
          "text": [
            "BFS dari simpul 'A':\n",
            "A B C E D F \n",
            "DFS dari simpul 'A':\n",
            "A B C D F E "
          ]
        }
      ]
    },
    {
      "cell_type": "code",
      "source": [
        "#nomor 3\n",
        "from collections import deque\n",
        "\n",
        "# Define the graph\n",
        "graph = {\n",
        "    'A': ['B', 'C', 'E'],\n",
        "    'B': ['A', 'C'],\n",
        "    'C': ['A', 'B', 'D'],\n",
        "    'D': ['C', 'F'],\n",
        "    'E': ['A', 'F'],\n",
        "    'F': ['D', 'E']\n",
        "}\n",
        "\n",
        "def bfs_with_path(graph, start):\n",
        "    visited = set()\n",
        "    queue = deque([start])\n",
        "    path = []\n",
        "\n",
        "    while queue:\n",
        "        vertex = queue.popleft()\n",
        "        if vertex not in visited:\n",
        "            path.append(vertex)\n",
        "            visited.add(vertex)\n",
        "            queue.extend([neighbor for neighbor in graph[vertex] if neighbor not in visited])\n",
        "\n",
        "    return path\n",
        "\n",
        "print(\"BFS simpul 'A' adalah\", bfs_with_path(graph, 'A'))"
      ],
      "metadata": {
        "id": "L37Q-mOAjuK_",
        "colab": {
          "base_uri": "https://localhost:8080/"
        },
        "outputId": "99c7b3ae-1674-443c-b1a8-baf4c04b9c35"
      },
      "execution_count": 2,
      "outputs": [
        {
          "output_type": "stream",
          "name": "stdout",
          "text": [
            "BFS simpul 'A' adalah ['A', 'B', 'C', 'E', 'D', 'F']\n"
          ]
        }
      ]
    },
    {
      "cell_type": "code",
      "source": [
        "graph = {\n",
        "    'A': ['B', 'C', 'E'],\n",
        "    'B': ['A', 'C'],\n",
        "    'C': ['A', 'B', 'D'],\n",
        "    'D': ['C', 'F'],\n",
        "    'E': ['A', 'F'],\n",
        "    'F': ['D', 'E']\n",
        "}\n",
        "def find_path(graph, start, end, path=None):\n",
        "    if path is None:\n",
        "        path = []\n",
        "    path = path + [start]\n",
        "\n",
        "    if start == end:\n",
        "        return path\n",
        "\n",
        "    if start not in graph:\n",
        "        return None\n",
        "    for neighbor in graph[start]:\n",
        "        if neighbor not in path:\n",
        "            new_path = find_path(graph, neighbor, end, path)\n",
        "            if new_path:\n",
        "                return new_path\n",
        "    return None\n",
        "\n",
        "print(\"Path dari 'A' ke 'F':\")\n",
        "path_a_to_f = find_path(graph, 'A', 'F')\n",
        "print(path_a_to_f)"
      ],
      "metadata": {
        "id": "JIQ2RmUs4pBg",
        "colab": {
          "base_uri": "https://localhost:8080/"
        },
        "outputId": "c19e23d2-9c19-4084-c853-3dbbe5fd5b83"
      },
      "execution_count": 5,
      "outputs": [
        {
          "output_type": "stream",
          "name": "stdout",
          "text": [
            "Path dari 'A' ke 'F':\n",
            "['A', 'B', 'C', 'D', 'F']\n"
          ]
        }
      ]
    },
    {
      "cell_type": "code",
      "source": [
        "#nomor 5\n",
        "from collections import deque\n",
        "\n",
        "def is_connected(graph):\n",
        "    if not graph:\n",
        "        return True\n",
        "    start_node = next(iter(graph))\n",
        "    visited = set()\n",
        "    queue = deque([start_node])\n",
        "\n",
        "    while queue:\n",
        "        vertex = queue.popleft()\n",
        "        if vertex not in visited:\n",
        "            visited.add(vertex)\n",
        "            queue.extend([neighbor for neighbor in graph[vertex] if neighbor not in visited])\n",
        "    return len(visited) == len(graph)\n",
        "\n",
        "print(\"Apakah graf sudah terhubung?\", is_connected(graph))"
      ],
      "metadata": {
        "colab": {
          "base_uri": "https://localhost:8080/"
        },
        "id": "tnLiVOj8fvJw",
        "outputId": "4c404d67-1e15-4da9-9a28-174a03da7fa7"
      },
      "execution_count": 7,
      "outputs": [
        {
          "output_type": "stream",
          "name": "stdout",
          "text": [
            "Apakah graf sudah terhubung? True\n"
          ]
        }
      ]
    },
    {
      "cell_type": "code",
      "source": [],
      "metadata": {
        "id": "D37ArYEnfv_S"
      },
      "execution_count": null,
      "outputs": []
    }
  ]
}